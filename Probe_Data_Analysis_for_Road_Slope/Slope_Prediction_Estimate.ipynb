{
 "cells": [
  {
   "cell_type": "code",
   "execution_count": 2188,
   "metadata": {},
   "outputs": [],
   "source": [
    "#import geopandas as gpd\n",
    "import matplotlib.pyplot as plt\n",
    "import numpy as np\n",
    "import pandas as pd\n",
    "import os\n",
    "import math\n",
    "from sklearn import linear_model\n",
    "from sklearn import linear_model\n",
    "reg = linear_model.LinearRegression()"
   ]
  },
  {
   "cell_type": "code",
   "execution_count": 2189,
   "metadata": {},
   "outputs": [],
   "source": [
    "def get_median_filtered(signal, threshold=4):\n",
    "    signal = signal.copy()\n",
    "    signal=signal.reset_index()\n",
    "    difference = np.abs(signal['height'] - np.median(signal['height']))\n",
    "    median_difference = np.median(difference)\n",
    "    if median_difference == 0:\n",
    "        s = 0\n",
    "    else:\n",
    "        s = difference / float(median_difference)\n",
    "    mask = s < threshold\n",
    "    return signal.iloc[np.where(mask)[0]]"
   ]
  },
  {
   "cell_type": "code",
   "execution_count": 2190,
   "metadata": {},
   "outputs": [],
   "source": [
    "file_path = '/Users/zhaoxiangyu/Downloads/'\n",
    "slope_link=pd.read_pickle(os.path.join(file_path, 'slope_from_link.pkl'))\n",
    "slope_probe=pd.read_pickle(os.path.join(file_path, 'probe_link_output.pkl'))\n",
    "link_ID=slope_probe.groupby('linkPVID')['linkPVID'].count().index"
   ]
  },
  {
   "cell_type": "code",
   "execution_count": 2191,
   "metadata": {},
   "outputs": [],
   "source": [
    "ct=np.array(slope_probe.groupby('linkPVID')['linkPVID'].count().values)\n",
    "linkID=np.array(slope_probe.groupby('linkPVID')['linkPVID'].count().index)\n",
    "count_id=pd.DataFrame(ct,linkID).reset_index()\n",
    "count_id.columns=['index','count']"
   ]
  },
  {
   "cell_type": "code",
   "execution_count": 2324,
   "metadata": {},
   "outputs": [
    {
     "data": {
      "text/html": [
       "<div>\n",
       "<style scoped>\n",
       "    .dataframe tbody tr th:only-of-type {\n",
       "        vertical-align: middle;\n",
       "    }\n",
       "\n",
       "    .dataframe tbody tr th {\n",
       "        vertical-align: top;\n",
       "    }\n",
       "\n",
       "    .dataframe thead th {\n",
       "        text-align: right;\n",
       "    }\n",
       "</style>\n",
       "<table border=\"1\" class=\"dataframe\">\n",
       "  <thead>\n",
       "    <tr style=\"text-align: right;\">\n",
       "      <th></th>\n",
       "      <th>index</th>\n",
       "      <th>count</th>\n",
       "    </tr>\n",
       "  </thead>\n",
       "  <tbody>\n",
       "    <tr>\n",
       "      <th>596</th>\n",
       "      <td>554713753.0</td>\n",
       "      <td>268</td>\n",
       "    </tr>\n",
       "    <tr>\n",
       "      <th>107</th>\n",
       "      <td>51921719.0</td>\n",
       "      <td>194</td>\n",
       "    </tr>\n",
       "    <tr>\n",
       "      <th>597</th>\n",
       "      <td>554713754.0</td>\n",
       "      <td>185</td>\n",
       "    </tr>\n",
       "    <tr>\n",
       "      <th>598</th>\n",
       "      <td>554713756.0</td>\n",
       "      <td>147</td>\n",
       "    </tr>\n",
       "    <tr>\n",
       "      <th>104</th>\n",
       "      <td>51921706.0</td>\n",
       "      <td>141</td>\n",
       "    </tr>\n",
       "    <tr>\n",
       "      <th>1309</th>\n",
       "      <td>772727760.0</td>\n",
       "      <td>134</td>\n",
       "    </tr>\n",
       "    <tr>\n",
       "      <th>1460</th>\n",
       "      <td>792551287.0</td>\n",
       "      <td>126</td>\n",
       "    </tr>\n",
       "  </tbody>\n",
       "</table>\n",
       "</div>"
      ],
      "text/plain": [
       "            index  count\n",
       "596   554713753.0    268\n",
       "107    51921719.0    194\n",
       "597   554713754.0    185\n",
       "598   554713756.0    147\n",
       "104    51921706.0    141\n",
       "1309  772727760.0    134\n",
       "1460  792551287.0    126"
      ]
     },
     "execution_count": 2324,
     "metadata": {},
     "output_type": "execute_result"
    }
   ],
   "source": [
    "count_id.sort_values(by=['count'],ascending=False).head(7)"
   ]
  },
  {
   "cell_type": "code",
   "execution_count": 2241,
   "metadata": {},
   "outputs": [],
   "source": []
  },
  {
   "cell_type": "code",
   "execution_count": null,
   "metadata": {},
   "outputs": [],
   "source": []
  },
  {
   "cell_type": "code",
   "execution_count": null,
   "metadata": {},
   "outputs": [],
   "source": []
  },
  {
   "cell_type": "code",
   "execution_count": 2325,
   "metadata": {},
   "outputs": [
    {
     "data": {
      "image/png": "[encoded data removed]",
      "text/plain": [
       "<Figure size 432x288 with 1 Axes>"
      ]
     },
     "metadata": {},
     "output_type": "display_data"
    },
    {
     "data": {
      "text/plain": [
       "<Figure size 432x288 with 0 Axes>"
      ]
     },
     "metadata": {},
     "output_type": "display_data"
    }
   ],
   "source": [
    "combine_all_output=pd.DataFrame()\n",
    "#Please Input a maigc number is in Range of (0,1555)\n",
    "for i in count_id.sort_values(by=['count'],ascending=False).index[5:6]:\n",
    "    magic_number=i\n",
    "    a=slope_probe.iloc[np.where(slope_probe['linkPVID']==link_ID[magic_number])].copy()\n",
    "    b=slope_link.iloc[np.where(slope_link['linkPVID']==link_ID[magic_number])].copy()\n",
    "    total=pd.concat([a, b])\n",
    "    total['distFromRef']=total['distFromRef'].astype(float)\n",
    "    total['distFromRef']=total['distFromRef']+100000\n",
    "    total['height']=total['height'].astype(float)\n",
    "    total['slope']=total['slope'].astype(float)\n",
    "    total['distFromRef_root']=total['distFromRef']**(1/2)\n",
    "    total=total.sort_values(by=['distFromRef'])\n",
    "    total=total.reset_index()\n",
    "    total=total.drop(columns=\"index\")\n",
    "    index_link=np.where(total['slope'].notna())[0]\n",
    "    total_1=get_median_filtered(total,3)\n",
    "    reg.fit(total_1[['distFromRef_root','distFromRef']],total_1['height'])\n",
    "    total['height_prediction']=reg.predict(total[['distFromRef_root','distFromRef']])\n",
    "    final=total.iloc[index_link]\n",
    "    x=total_1['distFromRef']-100000\n",
    "    y=total_1['height']\n",
    "    xvals=final['distFromRef']-100000\n",
    "    yvals=final['height_prediction']\n",
    "    plot1 = plt.plot(x, y, '.',label='original values')\n",
    "    plot1 = plt.plot(xvals, final['height'], '.', color = 'red' ,label='original values')\n",
    "    plot3 = plt.plot(xvals, yvals, 'black',label='polyfit values')\n",
    "    plt.xlabel('x')\n",
    "    plt.ylabel('y')\n",
    "    plt.legend(loc=4) #指定legend的位置右下角\n",
    "    plt.title('polyfitting')\n",
    "    plt.show()\n",
    "    plt.savefig('test.png')\n",
    "    output=final.copy()\n",
    "    output['distFromRef']=output['distFromRef']-100000\n",
    "    output['distFromRef_root']=output['distFromRef']**0.5\n",
    "    output['slope_prediction']=der_formula(reg.coef_,final['distFromRef'])\n",
    "    combine_all_output=pd.concat([combine_all_output,output])"
   ]
  },
  {
   "cell_type": "code",
   "execution_count": 2326,
   "metadata": {},
   "outputs": [],
   "source": [
    "def formula(coef,intercept,x):\n",
    "    return coef[1]*x+coef[0]*(x**(1/2))+intercept\n",
    "def der_formula(coef,x):\n",
    "\n",
    "    temp=coef[1]+coef[0]*((x+0.00001)**(-1/2))*(1/2)\n",
    "    return np.arctan(temp)*360/2/math.pi"
   ]
  },
  {
   "cell_type": "code",
   "execution_count": 2327,
   "metadata": {},
   "outputs": [],
   "source": [
    "rmse=((combine_all_output['slope_prediction']-combine_all_output.iloc[1:]['slope'])**2).sum()**(1/2)"
   ]
  },
  {
   "cell_type": "code",
   "execution_count": 2328,
   "metadata": {},
   "outputs": [
    {
     "data": {
      "text/plain": [
       "0.2059911881652352"
      ]
     },
     "execution_count": 2328,
     "metadata": {},
     "output_type": "execute_result"
    }
   ],
   "source": [
    "rmse"
   ]
  },
  {
   "cell_type": "code",
   "execution_count": 2329,
   "metadata": {},
   "outputs": [
    {
     "data": {
      "text/html": [
       "<div>\n",
       "<style scoped>\n",
       "    .dataframe tbody tr th:only-of-type {\n",
       "        vertical-align: middle;\n",
       "    }\n",
       "\n",
       "    .dataframe tbody tr th {\n",
       "        vertical-align: top;\n",
       "    }\n",
       "\n",
       "    .dataframe thead th {\n",
       "        text-align: right;\n",
       "    }\n",
       "</style>\n",
       "<table border=\"1\" class=\"dataframe\">\n",
       "  <thead>\n",
       "    <tr style=\"text-align: right;\">\n",
       "      <th></th>\n",
       "      <th>distFromRef</th>\n",
       "      <th>height</th>\n",
       "      <th>linkPVID</th>\n",
       "      <th>slope</th>\n",
       "      <th>distFromRef_root</th>\n",
       "      <th>height_prediction</th>\n",
       "      <th>slope_prediction</th>\n",
       "    </tr>\n",
       "  </thead>\n",
       "  <tbody>\n",
       "    <tr>\n",
       "      <th>0</th>\n",
       "      <td>0.00</td>\n",
       "      <td>103.73</td>\n",
       "      <td>772727760.0</td>\n",
       "      <td>-0.265</td>\n",
       "      <td>0.000000</td>\n",
       "      <td>104.624329</td>\n",
       "      <td>-0.373120</td>\n",
       "    </tr>\n",
       "    <tr>\n",
       "      <th>17</th>\n",
       "      <td>116.69</td>\n",
       "      <td>103.24</td>\n",
       "      <td>772727760.0</td>\n",
       "      <td>-0.210</td>\n",
       "      <td>10.802315</td>\n",
       "      <td>103.909173</td>\n",
       "      <td>-0.329179</td>\n",
       "    </tr>\n",
       "    <tr>\n",
       "      <th>38</th>\n",
       "      <td>192.30</td>\n",
       "      <td>102.97</td>\n",
       "      <td>772727760.0</td>\n",
       "      <td>-0.194</td>\n",
       "      <td>13.867228</td>\n",
       "      <td>103.493534</td>\n",
       "      <td>-0.300747</td>\n",
       "    </tr>\n",
       "    <tr>\n",
       "      <th>61</th>\n",
       "      <td>260.85</td>\n",
       "      <td>102.74</td>\n",
       "      <td>772727760.0</td>\n",
       "      <td>-0.188</td>\n",
       "      <td>16.150851</td>\n",
       "      <td>103.149117</td>\n",
       "      <td>-0.274998</td>\n",
       "    </tr>\n",
       "    <tr>\n",
       "      <th>72</th>\n",
       "      <td>323.08</td>\n",
       "      <td>102.54</td>\n",
       "      <td>772727760.0</td>\n",
       "      <td>-0.188</td>\n",
       "      <td>17.974426</td>\n",
       "      <td>102.863118</td>\n",
       "      <td>-0.251645</td>\n",
       "    </tr>\n",
       "    <tr>\n",
       "      <th>89</th>\n",
       "      <td>400.60</td>\n",
       "      <td>102.28</td>\n",
       "      <td>772727760.0</td>\n",
       "      <td>-0.191</td>\n",
       "      <td>20.014994</td>\n",
       "      <td>102.542308</td>\n",
       "      <td>-0.222586</td>\n",
       "    </tr>\n",
       "    <tr>\n",
       "      <th>96</th>\n",
       "      <td>451.45</td>\n",
       "      <td>102.11</td>\n",
       "      <td>772727760.0</td>\n",
       "      <td>-0.192</td>\n",
       "      <td>21.247353</td>\n",
       "      <td>102.353214</td>\n",
       "      <td>-0.203542</td>\n",
       "    </tr>\n",
       "    <tr>\n",
       "      <th>100</th>\n",
       "      <td>464.15</td>\n",
       "      <td>102.07</td>\n",
       "      <td>772727760.0</td>\n",
       "      <td>-0.192</td>\n",
       "      <td>21.544141</td>\n",
       "      <td>102.308624</td>\n",
       "      <td>-0.198788</td>\n",
       "    </tr>\n",
       "    <tr>\n",
       "      <th>105</th>\n",
       "      <td>475.55</td>\n",
       "      <td>102.03</td>\n",
       "      <td>772727760.0</td>\n",
       "      <td>-0.192</td>\n",
       "      <td>21.807109</td>\n",
       "      <td>102.269496</td>\n",
       "      <td>-0.194521</td>\n",
       "    </tr>\n",
       "    <tr>\n",
       "      <th>109</th>\n",
       "      <td>487.93</td>\n",
       "      <td>101.99</td>\n",
       "      <td>772727760.0</td>\n",
       "      <td>-0.191</td>\n",
       "      <td>22.089138</td>\n",
       "      <td>102.227966</td>\n",
       "      <td>-0.189888</td>\n",
       "    </tr>\n",
       "    <tr>\n",
       "      <th>122</th>\n",
       "      <td>603.53</td>\n",
       "      <td>101.61</td>\n",
       "      <td>772727760.0</td>\n",
       "      <td>-0.181</td>\n",
       "      <td>24.566848</td>\n",
       "      <td>101.888456</td>\n",
       "      <td>-0.146672</td>\n",
       "    </tr>\n",
       "    <tr>\n",
       "      <th>145</th>\n",
       "      <td>713.58</td>\n",
       "      <td>101.28</td>\n",
       "      <td>772727760.0</td>\n",
       "      <td>-0.159</td>\n",
       "      <td>26.712918</td>\n",
       "      <td>101.646193</td>\n",
       "      <td>-0.105599</td>\n",
       "    </tr>\n",
       "  </tbody>\n",
       "</table>\n",
       "</div>"
      ],
      "text/plain": [
       "     distFromRef  height     linkPVID  slope  distFromRef_root  \\\n",
       "0           0.00  103.73  772727760.0 -0.265          0.000000   \n",
       "17        116.69  103.24  772727760.0 -0.210         10.802315   \n",
       "38        192.30  102.97  772727760.0 -0.194         13.867228   \n",
       "61        260.85  102.74  772727760.0 -0.188         16.150851   \n",
       "72        323.08  102.54  772727760.0 -0.188         17.974426   \n",
       "89        400.60  102.28  772727760.0 -0.191         20.014994   \n",
       "96        451.45  102.11  772727760.0 -0.192         21.247353   \n",
       "100       464.15  102.07  772727760.0 -0.192         21.544141   \n",
       "105       475.55  102.03  772727760.0 -0.192         21.807109   \n",
       "109       487.93  101.99  772727760.0 -0.191         22.089138   \n",
       "122       603.53  101.61  772727760.0 -0.181         24.566848   \n",
       "145       713.58  101.28  772727760.0 -0.159         26.712918   \n",
       "\n",
       "     height_prediction  slope_prediction  \n",
       "0           104.624329         -0.373120  \n",
       "17          103.909173         -0.329179  \n",
       "38          103.493534         -0.300747  \n",
       "61          103.149117         -0.274998  \n",
       "72          102.863118         -0.251645  \n",
       "89          102.542308         -0.222586  \n",
       "96          102.353214         -0.203542  \n",
       "100         102.308624         -0.198788  \n",
       "105         102.269496         -0.194521  \n",
       "109         102.227966         -0.189888  \n",
       "122         101.888456         -0.146672  \n",
       "145         101.646193         -0.105599  "
      ]
     },
     "execution_count": 2329,
     "metadata": {},
     "output_type": "execute_result"
    }
   ],
   "source": [
    "combine_all_output"
   ]
  },
  {
   "cell_type": "code",
   "execution_count": null,
   "metadata": {},
   "outputs": [],
   "source": []
  },
  {
   "cell_type": "code",
   "execution_count": null,
   "metadata": {},
   "outputs": [],
   "source": []
  },
  {
   "cell_type": "code",
   "execution_count": 500,
   "metadata": {},
   "outputs": [],
   "source": []
  },
  {
   "cell_type": "code",
   "execution_count": 501,
   "metadata": {},
   "outputs": [],
   "source": []
  },
  {
   "cell_type": "code",
   "execution_count": null,
   "metadata": {},
   "outputs": [],
   "source": []
  },
  {
   "cell_type": "code",
   "execution_count": null,
   "metadata": {},
   "outputs": [],
   "source": []
  },
  {
   "cell_type": "code",
   "execution_count": null,
   "metadata": {},
   "outputs": [],
   "source": []
  }
 ],
 "metadata": {
  "kernelspec": {
   "display_name": "Python 3",
   "language": "python",
   "name": "python3"
  },
  "language_info": {
   "codemirror_mode": {
    "name": "ipython",
    "version": 3
   },
   "file_extension": ".py",
   "mimetype": "text/x-python",
   "name": "python",
   "nbconvert_exporter": "python",
   "pygments_lexer": "ipython3",
   "version": "3.6.6"
  }
 },
 "nbformat": 4,
 "nbformat_minor": 2
}

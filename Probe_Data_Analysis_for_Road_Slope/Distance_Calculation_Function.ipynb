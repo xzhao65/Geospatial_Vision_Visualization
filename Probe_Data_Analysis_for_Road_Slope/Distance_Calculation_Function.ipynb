{
 "cells": [
  {
   "cell_type": "code",
   "execution_count": 7,
   "metadata": {},
   "outputs": [],
   "source": [
    "def straight_distance(probe_point,from_linkpoint,to_linkpoint):\n",
    "    x1=probe_point[0]-from_linkpoint[0]\n",
    "    y1=probe_point[1]-from_linkpoint[1]\n",
    "    x2=to_linkpoint[0]-from_linkpoint[0]\n",
    "    y2=to_linkpoint[1]-from_linkpoint[1]\n",
    "    cross_product=x1*y2-x2*y1\n",
    "    return abs(cross_product/(x2**2+y2**2)**(1/2))\n",
    "    "
   ]
  },
  {
   "cell_type": "code",
   "execution_count": 9,
   "metadata": {},
   "outputs": [
    {
     "data": {
      "text/plain": [
       "2.0"
      ]
     },
     "execution_count": 9,
     "metadata": {},
     "output_type": "execute_result"
    }
   ],
   "source": [
    "straight_distance((2,2),(0,0),(2,0))"
   ]
  },
  {
   "cell_type": "code",
   "execution_count": 10,
   "metadata": {},
   "outputs": [],
   "source": [
    "def cosine_similarity(probe_point,from_linkpoint,to_linkpoint):\n",
    "    x1=probe_point[0]-from_linkpoint[0]\n",
    "    y1=probe_point[1]-from_linkpoint[1]\n",
    "    x2=to_linkpoint[0]-from_linkpoint[0]\n",
    "    y2=to_linkpoint[1]-from_linkpoint[1]\n",
    "    dot_product=x1*x2+y1*y2\n",
    "    return dot_product/((x1**2+y1**2)**(1/2))/((x2**2+y2**2)**(1/2))"
   ]
  },
  {
   "cell_type": "code",
   "execution_count": 20,
   "metadata": {},
   "outputs": [],
   "source": [
    "def delta_distance(probe_point,from_linkpoint,to_linkpoint):\n",
    "    x1=probe_point[0]-from_linkpoint[0]\n",
    "    y1=probe_point[1]-from_linkpoint[1]\n",
    "    x2=to_linkpoint[0]-from_linkpoint[0]\n",
    "    y2=to_linkpoint[1]-from_linkpoint[1]\n",
    "    dot_product=x1*x2+y1*y2\n",
    "    link_length=(x2**2+y2**2)**(1/2)\n",
    "    projection=dot_product/link_length\n",
    "    \n",
    "    if projection >= 0:\n",
    "        return max(projection-link_length,0)\n",
    "    else:\n",
    "        return abs(projection)"
   ]
  },
  {
   "cell_type": "code",
   "execution_count": 22,
   "metadata": {},
   "outputs": [
    {
     "data": {
      "text/plain": [
       "2.0"
      ]
     },
     "execution_count": 22,
     "metadata": {},
     "output_type": "execute_result"
    }
   ],
   "source": [
    "delta_distance((2,2),(0,0),(-1,0))"
   ]
  }
 ],
 "metadata": {
  "kernelspec": {
   "display_name": "Python 3",
   "language": "python",
   "name": "python3"
  },
  "language_info": {
   "codemirror_mode": {
    "name": "ipython",
    "version": 3
   },
   "file_extension": ".py",
   "mimetype": "text/x-python",
   "name": "python",
   "nbconvert_exporter": "python",
   "pygments_lexer": "ipython3",
   "version": "3.6.4"
  }
 },
 "nbformat": 4,
 "nbformat_minor": 2
}

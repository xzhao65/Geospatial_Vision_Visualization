{
 "cells": [
  {
   "cell_type": "markdown",
   "metadata": {
    "colab_type": "text",
    "id": "no5igz24_6J1"
   },
   "source": [
    "# CS 513 Geospatial Vision Assignment 2\n",
    "***\n",
    "**Probe data matching**"
   ]
  },
  {
   "cell_type": "markdown",
   "metadata": {
    "colab_type": "text",
    "id": "J-m2f5dxAS7G"
   },
   "source": [
    "## EDA"
   ]
  },
  {
   "cell_type": "markdown",
   "metadata": {
    "colab_type": "text",
    "id": "eRMIbL__AVaV"
   },
   "source": [
    "### Data loading"
   ]
  },
  {
   "cell_type": "raw",
   "metadata": {
    "colab": {
     "base_uri": "https://localhost:8080/",
     "height": 34
    },
    "colab_type": "code",
    "executionInfo": {
     "elapsed": 422,
     "status": "ok",
     "timestamp": 1550603863356,
     "user": {
      "displayName": "Bozhou Chen",
      "photoUrl": "https://lh5.googleusercontent.com/-jUkdAT7PKaw/AAAAAAAAAAI/AAAAAAAAAB4/elDQEnsc9p0/s64/photo.jpg",
      "userId": "03539460641108656711"
     },
     "user_tz": 300
    },
    "id": "Thk7jS6OSHhz",
    "outputId": "4f44872f-56d2-4bb2-bfa3-09cade47c050"
   },
   "source": [
    "from google.colab import drive\n",
    "drive.mount('/content/gdrive')\n",
    "import os\n",
    "file_path = '/content/gdrive/My Drive/CS 513/Assignment 2/Data/'"
   ]
  },
  {
   "cell_type": "code",
   "execution_count": 2,
   "metadata": {},
   "outputs": [],
   "source": [
    "import os\n",
    "file_path = 'D:/Data/probe_match'"
   ]
  },
  {
   "cell_type": "code",
   "execution_count": 3,
   "metadata": {
    "colab": {},
    "colab_type": "code",
    "id": "F45A3T6WShvy"
   },
   "outputs": [],
   "source": [
    "import numpy as np\n",
    "import pandas as pd"
   ]
  },
  {
   "cell_type": "code",
   "execution_count": 4,
   "metadata": {
    "colab": {
     "base_uri": "https://localhost:8080/",
     "height": 51
    },
    "colab_type": "code",
    "executionInfo": {
     "elapsed": 8473,
     "status": "ok",
     "timestamp": 1550603871423,
     "user": {
      "displayName": "Bozhou Chen",
      "photoUrl": "https://lh5.googleusercontent.com/-jUkdAT7PKaw/AAAAAAAAAAI/AAAAAAAAAB4/elDQEnsc9p0/s64/photo.jpg",
      "userId": "03539460641108656711"
     },
     "user_tz": 300
    },
    "id": "SApqTbTnSvxo",
    "outputId": "ee560708-625a-4b73-931a-1f1c318014d2"
   },
   "outputs": [
    {
     "name": "stdout",
     "output_type": "stream",
     "text": [
      "probe shape:  (3375745, 8)\n",
      "link shape:  (200089, 17)\n"
     ]
    }
   ],
   "source": [
    "probe = pd.read_csv(os.path.join(file_path, 'Partition6467ProbePoints.csv'), names = ['sampleID', 'dateTime', 'sourceCode', 'latitude', 'longitude', 'altitude', 'speed', 'heading'])\n",
    "print(\"probe shape: \", probe.shape)\n",
    "link = pd.read_csv(os.path.join(file_path, 'Partition6467LinkData.csv'), names = ['linkPVID', 'refNodeID', 'nrefNodeID', 'length', 'functionalClass', 'directionOfTravel', 'speedCategory', 'fromRefSpeedLimit', 'toRefSpeedLimit', 'fromRefNumLanes', 'toRefNumLanes', 'multiDigitized', 'urban', 'timeZone', 'shapeInfo', 'curvatureInfo', 'slopeInfo'])\n",
    "print(\"link shape: \", link.shape)"
   ]
  },
  {
   "cell_type": "code",
   "execution_count": 5,
   "metadata": {
    "colab": {
     "base_uri": "https://localhost:8080/",
     "height": 204
    },
    "colab_type": "code",
    "executionInfo": {
     "elapsed": 8461,
     "status": "ok",
     "timestamp": 1550603871425,
     "user": {
      "displayName": "Bozhou Chen",
      "photoUrl": "https://lh5.googleusercontent.com/-jUkdAT7PKaw/AAAAAAAAAAI/AAAAAAAAAB4/elDQEnsc9p0/s64/photo.jpg",
      "userId": "03539460641108656711"
     },
     "user_tz": 300
    },
    "id": "d0OV5vuNTc3-",
    "outputId": "fe141bb7-25b4-4dd5-e1f6-2eab624b4c92"
   },
   "outputs": [
    {
     "data": {
      "text/html": [
       "<div>\n",
       "<style scoped>\n",
       "    .dataframe tbody tr th:only-of-type {\n",
       "        vertical-align: middle;\n",
       "    }\n",
       "\n",
       "    .dataframe tbody tr th {\n",
       "        vertical-align: top;\n",
       "    }\n",
       "\n",
       "    .dataframe thead th {\n",
       "        text-align: right;\n",
       "    }\n",
       "</style>\n",
       "<table border=\"1\" class=\"dataframe\">\n",
       "  <thead>\n",
       "    <tr style=\"text-align: right;\">\n",
       "      <th></th>\n",
       "      <th>sampleID</th>\n",
       "      <th>dateTime</th>\n",
       "      <th>sourceCode</th>\n",
       "      <th>latitude</th>\n",
       "      <th>longitude</th>\n",
       "      <th>altitude</th>\n",
       "      <th>speed</th>\n",
       "      <th>heading</th>\n",
       "    </tr>\n",
       "  </thead>\n",
       "  <tbody>\n",
       "    <tr>\n",
       "      <th>0</th>\n",
       "      <td>3496</td>\n",
       "      <td>6/12/2009 6:12:49 AM</td>\n",
       "      <td>13</td>\n",
       "      <td>51.496868</td>\n",
       "      <td>9.386022</td>\n",
       "      <td>200</td>\n",
       "      <td>23</td>\n",
       "      <td>339</td>\n",
       "    </tr>\n",
       "    <tr>\n",
       "      <th>1</th>\n",
       "      <td>3496</td>\n",
       "      <td>6/12/2009 6:12:54 AM</td>\n",
       "      <td>13</td>\n",
       "      <td>51.496682</td>\n",
       "      <td>9.386157</td>\n",
       "      <td>200</td>\n",
       "      <td>10</td>\n",
       "      <td>129</td>\n",
       "    </tr>\n",
       "    <tr>\n",
       "      <th>2</th>\n",
       "      <td>3496</td>\n",
       "      <td>6/12/2009 6:12:59 AM</td>\n",
       "      <td>13</td>\n",
       "      <td>51.496705</td>\n",
       "      <td>9.386422</td>\n",
       "      <td>201</td>\n",
       "      <td>21</td>\n",
       "      <td>60</td>\n",
       "    </tr>\n",
       "    <tr>\n",
       "      <th>3</th>\n",
       "      <td>3496</td>\n",
       "      <td>6/12/2009 6:13:04 AM</td>\n",
       "      <td>13</td>\n",
       "      <td>51.496749</td>\n",
       "      <td>9.386840</td>\n",
       "      <td>201</td>\n",
       "      <td>0</td>\n",
       "      <td>360</td>\n",
       "    </tr>\n",
       "    <tr>\n",
       "      <th>4</th>\n",
       "      <td>3496</td>\n",
       "      <td>6/12/2009 6:13:09 AM</td>\n",
       "      <td>13</td>\n",
       "      <td>51.496864</td>\n",
       "      <td>9.387294</td>\n",
       "      <td>199</td>\n",
       "      <td>0</td>\n",
       "      <td>360</td>\n",
       "    </tr>\n",
       "  </tbody>\n",
       "</table>\n",
       "</div>"
      ],
      "text/plain": [
       "   sampleID              dateTime  sourceCode   latitude  longitude  altitude  \\\n",
       "0      3496  6/12/2009 6:12:49 AM          13  51.496868   9.386022       200   \n",
       "1      3496  6/12/2009 6:12:54 AM          13  51.496682   9.386157       200   \n",
       "2      3496  6/12/2009 6:12:59 AM          13  51.496705   9.386422       201   \n",
       "3      3496  6/12/2009 6:13:04 AM          13  51.496749   9.386840       201   \n",
       "4      3496  6/12/2009 6:13:09 AM          13  51.496864   9.387294       199   \n",
       "\n",
       "   speed  heading  \n",
       "0     23      339  \n",
       "1     10      129  \n",
       "2     21       60  \n",
       "3      0      360  \n",
       "4      0      360  "
      ]
     },
     "execution_count": 5,
     "metadata": {},
     "output_type": "execute_result"
    }
   ],
   "source": [
    "probe.head()"
   ]
  },
  {
   "cell_type": "code",
   "execution_count": 6,
   "metadata": {
    "colab": {
     "base_uri": "https://localhost:8080/",
     "height": 224
    },
    "colab_type": "code",
    "executionInfo": {
     "elapsed": 8449,
     "status": "ok",
     "timestamp": 1550603871428,
     "user": {
      "displayName": "Bozhou Chen",
      "photoUrl": "https://lh5.googleusercontent.com/-jUkdAT7PKaw/AAAAAAAAAAI/AAAAAAAAAB4/elDQEnsc9p0/s64/photo.jpg",
      "userId": "03539460641108656711"
     },
     "user_tz": 300
    },
    "id": "juKmgdIFTmV2",
    "outputId": "9d9a84b9-207e-4cef-de30-9c5a720d2196"
   },
   "outputs": [
    {
     "data": {
      "text/html": [
       "<div>\n",
       "<style scoped>\n",
       "    .dataframe tbody tr th:only-of-type {\n",
       "        vertical-align: middle;\n",
       "    }\n",
       "\n",
       "    .dataframe tbody tr th {\n",
       "        vertical-align: top;\n",
       "    }\n",
       "\n",
       "    .dataframe thead th {\n",
       "        text-align: right;\n",
       "    }\n",
       "</style>\n",
       "<table border=\"1\" class=\"dataframe\">\n",
       "  <thead>\n",
       "    <tr style=\"text-align: right;\">\n",
       "      <th></th>\n",
       "      <th>linkPVID</th>\n",
       "      <th>refNodeID</th>\n",
       "      <th>nrefNodeID</th>\n",
       "      <th>length</th>\n",
       "      <th>functionalClass</th>\n",
       "      <th>directionOfTravel</th>\n",
       "      <th>speedCategory</th>\n",
       "      <th>fromRefSpeedLimit</th>\n",
       "      <th>toRefSpeedLimit</th>\n",
       "      <th>fromRefNumLanes</th>\n",
       "      <th>toRefNumLanes</th>\n",
       "      <th>multiDigitized</th>\n",
       "      <th>urban</th>\n",
       "      <th>timeZone</th>\n",
       "      <th>shapeInfo</th>\n",
       "      <th>curvatureInfo</th>\n",
       "      <th>slopeInfo</th>\n",
       "    </tr>\n",
       "  </thead>\n",
       "  <tbody>\n",
       "    <tr>\n",
       "      <th>0</th>\n",
       "      <td>62007637</td>\n",
       "      <td>162844982</td>\n",
       "      <td>162809070</td>\n",
       "      <td>335.04</td>\n",
       "      <td>5</td>\n",
       "      <td>B</td>\n",
       "      <td>7</td>\n",
       "      <td>30</td>\n",
       "      <td>30</td>\n",
       "      <td>0</td>\n",
       "      <td>0</td>\n",
       "      <td>F</td>\n",
       "      <td>T</td>\n",
       "      <td>0.0</td>\n",
       "      <td>51.4965800/9.3862299/|51.4994700/9.3848799/</td>\n",
       "      <td>NaN</td>\n",
       "      <td>NaN</td>\n",
       "    </tr>\n",
       "    <tr>\n",
       "      <th>1</th>\n",
       "      <td>567329767</td>\n",
       "      <td>162844982</td>\n",
       "      <td>162981512</td>\n",
       "      <td>134.56</td>\n",
       "      <td>5</td>\n",
       "      <td>B</td>\n",
       "      <td>7</td>\n",
       "      <td>0</td>\n",
       "      <td>0</td>\n",
       "      <td>0</td>\n",
       "      <td>0</td>\n",
       "      <td>F</td>\n",
       "      <td>T</td>\n",
       "      <td>0.0</td>\n",
       "      <td>51.4965800/9.3862299/|51.4966899/9.3867100/|51...</td>\n",
       "      <td>NaN</td>\n",
       "      <td>NaN</td>\n",
       "    </tr>\n",
       "    <tr>\n",
       "      <th>2</th>\n",
       "      <td>62007648</td>\n",
       "      <td>162877732</td>\n",
       "      <td>162844982</td>\n",
       "      <td>97.01</td>\n",
       "      <td>5</td>\n",
       "      <td>B</td>\n",
       "      <td>7</td>\n",
       "      <td>30</td>\n",
       "      <td>30</td>\n",
       "      <td>0</td>\n",
       "      <td>0</td>\n",
       "      <td>F</td>\n",
       "      <td>T</td>\n",
       "      <td>0.0</td>\n",
       "      <td>51.4962899/9.3849100/|51.4965800/9.3862299/</td>\n",
       "      <td>NaN</td>\n",
       "      <td>NaN</td>\n",
       "    </tr>\n",
       "    <tr>\n",
       "      <th>3</th>\n",
       "      <td>78670326</td>\n",
       "      <td>162877732</td>\n",
       "      <td>163152693</td>\n",
       "      <td>314.84</td>\n",
       "      <td>5</td>\n",
       "      <td>B</td>\n",
       "      <td>7</td>\n",
       "      <td>30</td>\n",
       "      <td>30</td>\n",
       "      <td>0</td>\n",
       "      <td>0</td>\n",
       "      <td>F</td>\n",
       "      <td>T</td>\n",
       "      <td>0.0</td>\n",
       "      <td>51.4962899/9.3849100/|51.4990000/9.3836099/</td>\n",
       "      <td>NaN</td>\n",
       "      <td>NaN</td>\n",
       "    </tr>\n",
       "    <tr>\n",
       "      <th>4</th>\n",
       "      <td>51881672</td>\n",
       "      <td>174713859</td>\n",
       "      <td>174587951</td>\n",
       "      <td>110.17</td>\n",
       "      <td>3</td>\n",
       "      <td>B</td>\n",
       "      <td>6</td>\n",
       "      <td>50</td>\n",
       "      <td>50</td>\n",
       "      <td>2</td>\n",
       "      <td>2</td>\n",
       "      <td>F</td>\n",
       "      <td>T</td>\n",
       "      <td>0.0</td>\n",
       "      <td>53.0643099/8.7903400/45.79|53.0650299/8.791470...</td>\n",
       "      <td>NaN</td>\n",
       "      <td>0.00/-0.090|110.17/0.062</td>\n",
       "    </tr>\n",
       "  </tbody>\n",
       "</table>\n",
       "</div>"
      ],
      "text/plain": [
       "    linkPVID  refNodeID  nrefNodeID  length  functionalClass  \\\n",
       "0   62007637  162844982   162809070  335.04                5   \n",
       "1  567329767  162844982   162981512  134.56                5   \n",
       "2   62007648  162877732   162844982   97.01                5   \n",
       "3   78670326  162877732   163152693  314.84                5   \n",
       "4   51881672  174713859   174587951  110.17                3   \n",
       "\n",
       "  directionOfTravel  speedCategory  fromRefSpeedLimit  toRefSpeedLimit  \\\n",
       "0                 B              7                 30               30   \n",
       "1                 B              7                  0                0   \n",
       "2                 B              7                 30               30   \n",
       "3                 B              7                 30               30   \n",
       "4                 B              6                 50               50   \n",
       "\n",
       "   fromRefNumLanes  toRefNumLanes multiDigitized urban  timeZone  \\\n",
       "0                0              0              F     T       0.0   \n",
       "1                0              0              F     T       0.0   \n",
       "2                0              0              F     T       0.0   \n",
       "3                0              0              F     T       0.0   \n",
       "4                2              2              F     T       0.0   \n",
       "\n",
       "                                           shapeInfo curvatureInfo  \\\n",
       "0        51.4965800/9.3862299/|51.4994700/9.3848799/           NaN   \n",
       "1  51.4965800/9.3862299/|51.4966899/9.3867100/|51...           NaN   \n",
       "2        51.4962899/9.3849100/|51.4965800/9.3862299/           NaN   \n",
       "3        51.4962899/9.3849100/|51.4990000/9.3836099/           NaN   \n",
       "4  53.0643099/8.7903400/45.79|53.0650299/8.791470...           NaN   \n",
       "\n",
       "                  slopeInfo  \n",
       "0                       NaN  \n",
       "1                       NaN  \n",
       "2                       NaN  \n",
       "3                       NaN  \n",
       "4  0.00/-0.090|110.17/0.062  "
      ]
     },
     "execution_count": 6,
     "metadata": {},
     "output_type": "execute_result"
    }
   ],
   "source": [
    "link.head()"
   ]
  },
  {
   "cell_type": "markdown",
   "metadata": {
    "colab_type": "text",
    "id": "jvb58oQvAZeF"
   },
   "source": [
    "### Convert nested data string to list"
   ]
  },
  {
   "cell_type": "code",
   "execution_count": 7,
   "metadata": {
    "colab": {},
    "colab_type": "code",
    "id": "sUhZCKKyVD0l"
   },
   "outputs": [],
   "source": [
    "def nan_split(text, deli):\n",
    "  import math\n",
    "  try:\n",
    "    r = text.split(deli)\n",
    "  except:\n",
    "    r = []\n",
    "  return r\n",
    "link['shapeInfo'] = link['shapeInfo'].map(lambda x: list(map(lambda y: nan_split(y, '/'), nan_split(x, '|'))))\n",
    "link['curvatureInfo'] = link['curvatureInfo'].map(lambda x: list(map(lambda y: nan_split(y, '/'), nan_split(x, '|'))))\n",
    "link['slopeInfo'] = link['slopeInfo'].map(lambda x: list(map(lambda y: nan_split(y, '/'), nan_split(x, '|'))))"
   ]
  },
  {
   "cell_type": "code",
   "execution_count": 8,
   "metadata": {
    "colab": {
     "base_uri": "https://localhost:8080/",
     "height": 496
    },
    "colab_type": "code",
    "executionInfo": {
     "elapsed": 13382,
     "status": "ok",
     "timestamp": 1550603876373,
     "user": {
      "displayName": "Bozhou Chen",
      "photoUrl": "https://lh5.googleusercontent.com/-jUkdAT7PKaw/AAAAAAAAAAI/AAAAAAAAAB4/elDQEnsc9p0/s64/photo.jpg",
      "userId": "03539460641108656711"
     },
     "user_tz": 300
    },
    "id": "UCL9Mma6WLeM",
    "outputId": "4c583279-8d61-46f4-efc7-d6738f792110"
   },
   "outputs": [
    {
     "data": {
      "text/html": [
       "<div>\n",
       "<style scoped>\n",
       "    .dataframe tbody tr th:only-of-type {\n",
       "        vertical-align: middle;\n",
       "    }\n",
       "\n",
       "    .dataframe tbody tr th {\n",
       "        vertical-align: top;\n",
       "    }\n",
       "\n",
       "    .dataframe thead th {\n",
       "        text-align: right;\n",
       "    }\n",
       "</style>\n",
       "<table border=\"1\" class=\"dataframe\">\n",
       "  <thead>\n",
       "    <tr style=\"text-align: right;\">\n",
       "      <th></th>\n",
       "      <th>linkPVID</th>\n",
       "      <th>refNodeID</th>\n",
       "      <th>nrefNodeID</th>\n",
       "      <th>length</th>\n",
       "      <th>functionalClass</th>\n",
       "      <th>directionOfTravel</th>\n",
       "      <th>speedCategory</th>\n",
       "      <th>fromRefSpeedLimit</th>\n",
       "      <th>toRefSpeedLimit</th>\n",
       "      <th>fromRefNumLanes</th>\n",
       "      <th>toRefNumLanes</th>\n",
       "      <th>multiDigitized</th>\n",
       "      <th>urban</th>\n",
       "      <th>timeZone</th>\n",
       "      <th>shapeInfo</th>\n",
       "      <th>curvatureInfo</th>\n",
       "      <th>slopeInfo</th>\n",
       "    </tr>\n",
       "  </thead>\n",
       "  <tbody>\n",
       "    <tr>\n",
       "      <th>0</th>\n",
       "      <td>62007637</td>\n",
       "      <td>162844982</td>\n",
       "      <td>162809070</td>\n",
       "      <td>335.04</td>\n",
       "      <td>5</td>\n",
       "      <td>B</td>\n",
       "      <td>7</td>\n",
       "      <td>30</td>\n",
       "      <td>30</td>\n",
       "      <td>0</td>\n",
       "      <td>0</td>\n",
       "      <td>F</td>\n",
       "      <td>T</td>\n",
       "      <td>0.0</td>\n",
       "      <td>[[51.4965800, 9.3862299, ], [51.4994700, 9.384...</td>\n",
       "      <td>[]</td>\n",
       "      <td>[]</td>\n",
       "    </tr>\n",
       "    <tr>\n",
       "      <th>1</th>\n",
       "      <td>567329767</td>\n",
       "      <td>162844982</td>\n",
       "      <td>162981512</td>\n",
       "      <td>134.56</td>\n",
       "      <td>5</td>\n",
       "      <td>B</td>\n",
       "      <td>7</td>\n",
       "      <td>0</td>\n",
       "      <td>0</td>\n",
       "      <td>0</td>\n",
       "      <td>0</td>\n",
       "      <td>F</td>\n",
       "      <td>T</td>\n",
       "      <td>0.0</td>\n",
       "      <td>[[51.4965800, 9.3862299, ], [51.4966899, 9.386...</td>\n",
       "      <td>[]</td>\n",
       "      <td>[]</td>\n",
       "    </tr>\n",
       "    <tr>\n",
       "      <th>2</th>\n",
       "      <td>62007648</td>\n",
       "      <td>162877732</td>\n",
       "      <td>162844982</td>\n",
       "      <td>97.01</td>\n",
       "      <td>5</td>\n",
       "      <td>B</td>\n",
       "      <td>7</td>\n",
       "      <td>30</td>\n",
       "      <td>30</td>\n",
       "      <td>0</td>\n",
       "      <td>0</td>\n",
       "      <td>F</td>\n",
       "      <td>T</td>\n",
       "      <td>0.0</td>\n",
       "      <td>[[51.4962899, 9.3849100, ], [51.4965800, 9.386...</td>\n",
       "      <td>[]</td>\n",
       "      <td>[]</td>\n",
       "    </tr>\n",
       "    <tr>\n",
       "      <th>3</th>\n",
       "      <td>78670326</td>\n",
       "      <td>162877732</td>\n",
       "      <td>163152693</td>\n",
       "      <td>314.84</td>\n",
       "      <td>5</td>\n",
       "      <td>B</td>\n",
       "      <td>7</td>\n",
       "      <td>30</td>\n",
       "      <td>30</td>\n",
       "      <td>0</td>\n",
       "      <td>0</td>\n",
       "      <td>F</td>\n",
       "      <td>T</td>\n",
       "      <td>0.0</td>\n",
       "      <td>[[51.4962899, 9.3849100, ], [51.4990000, 9.383...</td>\n",
       "      <td>[]</td>\n",
       "      <td>[]</td>\n",
       "    </tr>\n",
       "    <tr>\n",
       "      <th>4</th>\n",
       "      <td>51881672</td>\n",
       "      <td>174713859</td>\n",
       "      <td>174587951</td>\n",
       "      <td>110.17</td>\n",
       "      <td>3</td>\n",
       "      <td>B</td>\n",
       "      <td>6</td>\n",
       "      <td>50</td>\n",
       "      <td>50</td>\n",
       "      <td>2</td>\n",
       "      <td>2</td>\n",
       "      <td>F</td>\n",
       "      <td>T</td>\n",
       "      <td>0.0</td>\n",
       "      <td>[[53.0643099, 8.7903400, 45.79], [53.0650299, ...</td>\n",
       "      <td>[]</td>\n",
       "      <td>[[0.00, -0.090], [110.17, 0.062]]</td>\n",
       "    </tr>\n",
       "  </tbody>\n",
       "</table>\n",
       "</div>"
      ],
      "text/plain": [
       "    linkPVID  refNodeID  nrefNodeID  length  functionalClass  \\\n",
       "0   62007637  162844982   162809070  335.04                5   \n",
       "1  567329767  162844982   162981512  134.56                5   \n",
       "2   62007648  162877732   162844982   97.01                5   \n",
       "3   78670326  162877732   163152693  314.84                5   \n",
       "4   51881672  174713859   174587951  110.17                3   \n",
       "\n",
       "  directionOfTravel  speedCategory  fromRefSpeedLimit  toRefSpeedLimit  \\\n",
       "0                 B              7                 30               30   \n",
       "1                 B              7                  0                0   \n",
       "2                 B              7                 30               30   \n",
       "3                 B              7                 30               30   \n",
       "4                 B              6                 50               50   \n",
       "\n",
       "   fromRefNumLanes  toRefNumLanes multiDigitized urban  timeZone  \\\n",
       "0                0              0              F     T       0.0   \n",
       "1                0              0              F     T       0.0   \n",
       "2                0              0              F     T       0.0   \n",
       "3                0              0              F     T       0.0   \n",
       "4                2              2              F     T       0.0   \n",
       "\n",
       "                                           shapeInfo curvatureInfo  \\\n",
       "0  [[51.4965800, 9.3862299, ], [51.4994700, 9.384...            []   \n",
       "1  [[51.4965800, 9.3862299, ], [51.4966899, 9.386...            []   \n",
       "2  [[51.4962899, 9.3849100, ], [51.4965800, 9.386...            []   \n",
       "3  [[51.4962899, 9.3849100, ], [51.4990000, 9.383...            []   \n",
       "4  [[53.0643099, 8.7903400, 45.79], [53.0650299, ...            []   \n",
       "\n",
       "                           slopeInfo  \n",
       "0                                 []  \n",
       "1                                 []  \n",
       "2                                 []  \n",
       "3                                 []  \n",
       "4  [[0.00, -0.090], [110.17, 0.062]]  "
      ]
     },
     "execution_count": 8,
     "metadata": {},
     "output_type": "execute_result"
    }
   ],
   "source": [
    "link.head()"
   ]
  },
  {
   "cell_type": "markdown",
   "metadata": {
    "colab_type": "text",
    "id": "P9PCK_cHupW_"
   },
   "source": [
    "### Probe data EDA"
   ]
  },
  {
   "cell_type": "code",
   "execution_count": 9,
   "metadata": {
    "colab": {
     "base_uri": "https://localhost:8080/",
     "height": 435
    },
    "colab_type": "code",
    "executionInfo": {
     "elapsed": 605,
     "status": "ok",
     "timestamp": 1550613298324,
     "user": {
      "displayName": "Bozhou Chen",
      "photoUrl": "https://lh5.googleusercontent.com/-jUkdAT7PKaw/AAAAAAAAAAI/AAAAAAAAAB4/elDQEnsc9p0/s64/photo.jpg",
      "userId": "03539460641108656711"
     },
     "user_tz": 300
    },
    "id": "60H_yoPbur__",
    "outputId": "b8cd64ad-9033-4796-81b0-2983b97e7df6"
   },
   "outputs": [
    {
     "data": {
      "text/plain": [
       "(array([2.2750e+03, 3.4040e+03, 1.7587e+04, 1.5756e+04, 1.6230e+03,\n",
       "        1.9390e+03, 3.1454e+04, 4.5500e+02, 1.8000e+01, 1.5000e+01,\n",
       "        2.8000e+01, 3.6000e+01, 1.0250e+03, 2.1000e+01, 9.0000e+00,\n",
       "        7.0000e+00, 3.0000e+00, 3.0000e+00, 1.7200e+02, 2.0000e+00,\n",
       "        1.0000e+00, 4.0000e+00, 1.0000e+00, 2.0000e+00, 0.0000e+00,\n",
       "        0.0000e+00, 0.0000e+00, 0.0000e+00, 0.0000e+00]),\n",
       " array([  0,  10,  20,  30,  40,  50,  60,  70,  80,  90, 100, 110, 120,\n",
       "        130, 140, 150, 160, 170, 180, 190, 200, 210, 220, 230, 240, 250,\n",
       "        260, 270, 280, 290]),\n",
       " <a list of 29 Patch objects>)"
      ]
     },
     "execution_count": 9,
     "metadata": {},
     "output_type": "execute_result"
    }
   ],
   "source": [
    "from matplotlib import pyplot as plt\n",
    "plt.hist(probe.groupby('sampleID').size(), bins = range(0, 300, 10))"
   ]
  },
  {
   "cell_type": "markdown",
   "metadata": {
    "colab_type": "text",
    "id": "gjvZoDrdwDNY"
   },
   "source": [
    "The trips are ususally less than 100 times reports."
   ]
  },
  {
   "cell_type": "code",
   "execution_count": 10,
   "metadata": {
    "colab": {
     "base_uri": "https://localhost:8080/",
     "height": 401
    },
    "colab_type": "code",
    "executionInfo": {
     "elapsed": 847,
     "status": "ok",
     "timestamp": 1550613371047,
     "user": {
      "displayName": "Bozhou Chen",
      "photoUrl": "https://lh5.googleusercontent.com/-jUkdAT7PKaw/AAAAAAAAAAI/AAAAAAAAAB4/elDQEnsc9p0/s64/photo.jpg",
      "userId": "03539460641108656711"
     },
     "user_tz": 300
    },
    "id": "TvAI41Abwb10",
    "outputId": "d928b68f-3a5c-4965-b661-69e2ab39ca61"
   },
   "outputs": [
    {
     "data": {
      "text/plain": [
       "(array([3175., 1942., 2340., 2566., 3047., 3103., 3079., 3279., 3162.,\n",
       "        3449., 3545., 3663., 3547., 3202., 2923., 2657., 2653., 2609.,\n",
       "        2278., 2251., 2354., 2424., 2635., 2656., 2395., 2020., 1581.,\n",
       "         902.,  403.]),\n",
       " array([  0,   5,  10,  15,  20,  25,  30,  35,  40,  45,  50,  55,  60,\n",
       "         65,  70,  75,  80,  85,  90,  95, 100, 105, 110, 115, 120, 125,\n",
       "        130, 135, 140, 145]),\n",
       " <a list of 29 Patch objects>)"
      ]
     },
     "execution_count": 10,
     "metadata": {},
     "output_type": "execute_result"
    },
    {
     "data": {
      "image/png": "[encoded data removed]",
      "text/plain": [
       "<matplotlib.figure.Figure at 0x1d00b4a2470>"
      ]
     },
     "metadata": {
      "needs_background": "light"
     },
     "output_type": "display_data"
    }
   ],
   "source": [
    "plt.hist(probe.groupby('sampleID').mean()['speed'], bins = range(0, 150, 5))"
   ]
  },
  {
   "cell_type": "markdown",
   "metadata": {
    "colab_type": "text",
    "id": "TZKNvEB3w_dK"
   },
   "source": [
    "Crazy Germen, they don't have speed limit on highway."
   ]
  },
  {
   "cell_type": "code",
   "execution_count": 11,
   "metadata": {
    "colab": {
     "base_uri": "https://localhost:8080/",
     "height": 34
    },
    "colab_type": "code",
    "executionInfo": {
     "elapsed": 290,
     "status": "ok",
     "timestamp": 1550616498366,
     "user": {
      "displayName": "Bozhou Chen",
      "photoUrl": "https://lh5.googleusercontent.com/-jUkdAT7PKaw/AAAAAAAAAAI/AAAAAAAAAB4/elDQEnsc9p0/s64/photo.jpg",
      "userId": "03539460641108656711"
     },
     "user_tz": 300
    },
    "id": "dqAn_ccDw_RD",
    "outputId": "f0034f6e-7784-4a9f-dc9f-d56386d56470"
   },
   "outputs": [
    {
     "data": {
      "text/plain": [
       "5"
      ]
     },
     "execution_count": 11,
     "metadata": {},
     "output_type": "execute_result"
    }
   ],
   "source": [
    "from datetime import datetime  \n",
    "format = '%m/%d/%Y %I:%M:%S %p'\n",
    "(datetime.strptime(probe['dateTime'][1], format) - datetime.strptime(probe['dateTime'][0], format)).seconds"
   ]
  },
  {
   "cell_type": "raw",
   "metadata": {
    "colab": {
     "base_uri": "https://localhost:8080/",
     "height": 163
    },
    "colab_type": "code",
    "executionInfo": {
     "elapsed": 210,
     "status": "error",
     "timestamp": 1550617720964,
     "user": {
      "displayName": "Bozhou Chen",
      "photoUrl": "https://lh5.googleusercontent.com/-jUkdAT7PKaw/AAAAAAAAAAI/AAAAAAAAAB4/elDQEnsc9p0/s64/photo.jpg",
      "userId": "03539460641108656711"
     },
     "user_tz": 300
    },
    "id": "9zdM1Pjsw5Na",
    "outputId": "52b2265f-4c82-4689-b027-c3f2cab98e49"
   },
   "source": [
    "df_dateTime = np.ndarray([probe['sampleID'][1:100].tolist(), list(map(lambda x: datetime.strptime(x, format), probe['dateTime'][1:100]))])"
   ]
  },
  {
   "cell_type": "raw",
   "metadata": {
    "colab": {
     "base_uri": "https://localhost:8080/",
     "height": 34
    },
    "colab_type": "code",
    "executionInfo": {
     "elapsed": 224,
     "status": "ok",
     "timestamp": 1550617863276,
     "user": {
      "displayName": "Bozhou Chen",
      "photoUrl": "https://lh5.googleusercontent.com/-jUkdAT7PKaw/AAAAAAAAAAI/AAAAAAAAAB4/elDQEnsc9p0/s64/photo.jpg",
      "userId": "03539460641108656711"
     },
     "user_tz": 300
    },
    "id": "pe-0J1tvwvPz",
    "outputId": "8c9f2b4b-3b59-4126-9b11-d08979437ae7"
   },
   "source": [
    "probe.groupby('sampleID')"
   ]
  },
  {
   "cell_type": "markdown",
   "metadata": {
    "colab_type": "text",
    "id": "LfcvPUlpKBvA"
   },
   "source": [
    "## Probe matching"
   ]
  },
  {
   "cell_type": "code",
   "execution_count": 12,
   "metadata": {
    "colab": {
     "base_uri": "https://localhost:8080/",
     "height": 34
    },
    "colab_type": "code",
    "executionInfo": {
     "elapsed": 13467,
     "status": "ok",
     "timestamp": 1550603876468,
     "user": {
      "displayName": "Bozhou Chen",
      "photoUrl": "https://lh5.googleusercontent.com/-jUkdAT7PKaw/AAAAAAAAAAI/AAAAAAAAAB4/elDQEnsc9p0/s64/photo.jpg",
      "userId": "03539460641108656711"
     },
     "user_tz": 300
    },
    "id": "VCsNqdqvKAgx",
    "outputId": "4c5103ba-8295-4b86-c3d3-7dce079f7026"
   },
   "outputs": [
    {
     "data": {
      "text/plain": [
       "0"
      ]
     },
     "execution_count": 12,
     "metadata": {},
     "output_type": "execute_result"
    }
   ],
   "source": [
    "list(map(lambda x: len(x), link['shapeInfo'])).count(1)"
   ]
  },
  {
   "cell_type": "markdown",
   "metadata": {
    "colab_type": "text",
    "id": "14hPfiS7MkI4"
   },
   "source": [
    "For the 'shapeInfo', at least two nodes are included in a link.\n",
    "\n",
    "The distribution of number of nodes on each link:"
   ]
  },
  {
   "cell_type": "code",
   "execution_count": 13,
   "metadata": {
    "colab": {
     "base_uri": "https://localhost:8080/",
     "height": 417
    },
    "colab_type": "code",
    "executionInfo": {
     "elapsed": 1125,
     "status": "ok",
     "timestamp": 1550603954713,
     "user": {
      "displayName": "Bozhou Chen",
      "photoUrl": "https://lh5.googleusercontent.com/-jUkdAT7PKaw/AAAAAAAAAAI/AAAAAAAAAB4/elDQEnsc9p0/s64/photo.jpg",
      "userId": "03539460641108656711"
     },
     "user_tz": 300
    },
    "id": "y1C4aweHEDm9",
    "outputId": "6075b742-c825-432f-b326-88a007cb6dc0"
   },
   "outputs": [
    {
     "data": {
      "text/plain": [
       "(array([    0.,     0., 72828., 35503., 25902., 18359., 12320.,  8540.,\n",
       "        10198.]),\n",
       " array([0, 1, 2, 3, 4, 5, 6, 7, 8, 9]),\n",
       " <a list of 9 Patch objects>)"
      ]
     },
     "execution_count": 13,
     "metadata": {},
     "output_type": "execute_result"
    },
    {
     "data": {
      "image/png": "[encoded data removed]",
      "text/plain": [
       "<matplotlib.figure.Figure at 0x1d00c1ab630>"
      ]
     },
     "metadata": {
      "needs_background": "light"
     },
     "output_type": "display_data"
    }
   ],
   "source": [
    "from matplotlib import pyplot as plt\n",
    "nodes_count = list(map(lambda x: len(x), link['shapeInfo']))\n",
    "plt.subplot(141)\n",
    "plt.hist(nodes_count)\n",
    "plt.subplot(142)\n",
    "plt.hist(nodes_count, bins = np.arange(0, 50, 5))\n",
    "plt.subplot(143)\n",
    "plt.hist(nodes_count, bins = np.arange(0, 25, 1))\n",
    "plt.subplot(144)\n",
    "plt.hist(nodes_count, bins = np.arange(0, 10, 1))"
   ]
  },
  {
   "cell_type": "markdown",
   "metadata": {
    "colab_type": "text",
    "id": "erS9Zv7iON47"
   },
   "source": [
    "The distribution of length of links. Mainly in 0-300 meter.\n"
   ]
  },
  {
   "cell_type": "code",
   "execution_count": 14,
   "metadata": {
    "colab": {
     "base_uri": "https://localhost:8080/",
     "height": 689
    },
    "colab_type": "code",
    "executionInfo": {
     "elapsed": 972,
     "status": "ok",
     "timestamp": 1550604501128,
     "user": {
      "displayName": "Bozhou Chen",
      "photoUrl": "https://lh5.googleusercontent.com/-jUkdAT7PKaw/AAAAAAAAAAI/AAAAAAAAAB4/elDQEnsc9p0/s64/photo.jpg",
      "userId": "03539460641108656711"
     },
     "user_tz": 300
    },
    "id": "S01e2PNtOQmL",
    "outputId": "11f4b12d-d8b9-490c-9822-17c56fb16984"
   },
   "outputs": [
    {
     "data": {
      "text/plain": [
       "(array([  61.,  987., 2792., 3560., 4360., 4843., 5247., 5380., 5724.,\n",
       "        5832., 5837., 5806., 5687., 5538., 5555., 5280., 5361., 5021.,\n",
       "        4971., 4608., 4492., 4371., 3983., 3789., 3763., 3426., 3300.,\n",
       "        3133., 3017., 2871., 2671., 2495., 2491., 2357., 2302., 2173.,\n",
       "        1940., 1975., 1927., 1759., 1647., 1671., 1565., 1445., 1332.,\n",
       "        1317., 1318., 1210., 1119., 1069., 1023.,  993.,  903.,  914.,\n",
       "         841.,  810.,  810.,  725.,  687.,  686.,  661.,  626.,  585.,\n",
       "         582.,  562.,  537.,  522.,  515.,  459.,  470.,  428.,  461.,\n",
       "         419.,  412.,  431.,  361.,  378.,  340.,  364.,  341.,  333.,\n",
       "         327.,  313.,  317.,  295.,  301.,  261.,  282.,  257.,  264.,\n",
       "         248.,  241.,  252.,  232.,  225.,  215.,  215.,  218.,  198.]),\n",
       " array([  0,   5,  10,  15,  20,  25,  30,  35,  40,  45,  50,  55,  60,\n",
       "         65,  70,  75,  80,  85,  90,  95, 100, 105, 110, 115, 120, 125,\n",
       "        130, 135, 140, 145, 150, 155, 160, 165, 170, 175, 180, 185, 190,\n",
       "        195, 200, 205, 210, 215, 220, 225, 230, 235, 240, 245, 250, 255,\n",
       "        260, 265, 270, 275, 280, 285, 290, 295, 300, 305, 310, 315, 320,\n",
       "        325, 330, 335, 340, 345, 350, 355, 360, 365, 370, 375, 380, 385,\n",
       "        390, 395, 400, 405, 410, 415, 420, 425, 430, 435, 440, 445, 450,\n",
       "        455, 460, 465, 470, 475, 480, 485, 490, 495]),\n",
       " <a list of 99 Patch objects>)"
      ]
     },
     "execution_count": 14,
     "metadata": {},
     "output_type": "execute_result"
    },
    {
     "data": {
      "image/png": "[encoded data removed]",
      "text/plain": [
       "<matplotlib.figure.Figure at 0x1d04b006710>"
      ]
     },
     "metadata": {
      "needs_background": "light"
     },
     "output_type": "display_data"
    }
   ],
   "source": [
    "plt.subplot(121)\n",
    "plt.hist(link['length'])\n",
    "plt.subplot(122)\n",
    "plt.hist(link['length'], bins=np.arange(0, 500, 5))"
   ]
  },
  {
   "cell_type": "code",
   "execution_count": 15,
   "metadata": {},
   "outputs": [
    {
     "name": "stdout",
     "output_type": "stream",
     "text": [
      "speedCategory\n",
      "1     5057\n",
      "2     2884\n",
      "3    15136\n",
      "4    26376\n",
      "5    28839\n",
      "6    88284\n",
      "7    30462\n",
      "8     3051\n",
      "Name: length, dtype: int64\n",
      "speedCategory\n",
      "1    5053.44\n",
      "2    6301.89\n",
      "3    4277.37\n",
      "4    5523.57\n",
      "5    5442.05\n",
      "6    3479.27\n",
      "7    3874.81\n",
      "8    2895.24\n",
      "Name: length, dtype: float64\n"
     ]
    }
   ],
   "source": [
    "print(link.groupby('speedCategory').count()['length'])\n",
    "print(link.groupby('speedCategory').max()['length'])"
   ]
  },
  {
   "cell_type": "code",
   "execution_count": 16,
   "metadata": {
    "colab": {
     "base_uri": "https://localhost:8080/",
     "height": 517
    },
    "colab_type": "code",
    "executionInfo": {
     "elapsed": 762,
     "status": "ok",
     "timestamp": 1550609680461,
     "user": {
      "displayName": "Bozhou Chen",
      "photoUrl": "https://lh5.googleusercontent.com/-jUkdAT7PKaw/AAAAAAAAAAI/AAAAAAAAAB4/elDQEnsc9p0/s64/photo.jpg",
      "userId": "03539460641108656711"
     },
     "user_tz": 300
    },
    "id": "KCQ94oVniUbm",
    "outputId": "c870c9fb-eb12-4a06-c4f6-2a9aa2d16830"
   },
   "outputs": [
    {
     "data": {
      "text/plain": [
       "(array([  34., 1125., 2959., 3868., 5186., 6828., 8091., 9038., 9348.,\n",
       "        9390., 9463., 9057., 8589., 8531., 7678., 7472., 6750., 6324.,\n",
       "        5961., 5448., 4989., 4611., 4255., 3994., 3501., 3271., 3095.,\n",
       "        2744., 2520., 2269., 2189., 2031., 1843., 1596., 1604., 1408.,\n",
       "        1419., 1218., 1135., 1052., 1024.,  974.,  877.,  853.,  746.,\n",
       "         673.,  659.,  639.,  563.]),\n",
       " array([ 0,  2,  4,  6,  8, 10, 12, 14, 16, 18, 20, 22, 24, 26, 28, 30, 32,\n",
       "        34, 36, 38, 40, 42, 44, 46, 48, 50, 52, 54, 56, 58, 60, 62, 64, 66,\n",
       "        68, 70, 72, 74, 76, 78, 80, 82, 84, 86, 88, 90, 92, 94, 96, 98]),\n",
       " <a list of 49 Patch objects>)"
      ]
     },
     "execution_count": 16,
     "metadata": {},
     "output_type": "execute_result"
    },
    {
     "data": {
      "image/png": "[encoded data removed]",
      "text/plain": [
       "<matplotlib.figure.Figure at 0x1d04b00c9b0>"
      ]
     },
     "metadata": {
      "needs_background": "light"
     },
     "output_type": "display_data"
    }
   ],
   "source": [
    "plt.subplot(121)\n",
    "plt.hist(link['length']/nodes_count)\n",
    "plt.subplot(122)\n",
    "plt.hist(link['length']/nodes_count, bins=np.arange(0, 100, 2))"
   ]
  },
  {
   "cell_type": "markdown",
   "metadata": {
    "colab_type": "text",
    "id": "8obk_uYwilGV"
   },
   "source": [
    "Usually, it takes less than 80 meter to meet a crucial point (reference point, shape point), in average. Some links have really sparse crucial points. The length between most of crucials points are small."
   ]
  },
  {
   "cell_type": "code",
   "execution_count": 17,
   "metadata": {
    "colab": {
     "base_uri": "https://localhost:8080/",
     "height": 34
    },
    "colab_type": "code",
    "executionInfo": {
     "elapsed": 240,
     "status": "ok",
     "timestamp": 1550613974403,
     "user": {
      "displayName": "Bozhou Chen",
      "photoUrl": "https://lh5.googleusercontent.com/-jUkdAT7PKaw/AAAAAAAAAAI/AAAAAAAAAB4/elDQEnsc9p0/s64/photo.jpg",
      "userId": "03539460641108656711"
     },
     "user_tz": 300
    },
    "id": "sWesHhLnyvnf",
    "outputId": "62940f2c-cf94-449f-e3c7-401e386c2019"
   },
   "outputs": [
    {
     "data": {
      "text/plain": [
       "18202"
      ]
     },
     "execution_count": 17,
     "metadata": {},
     "output_type": "execute_result"
    }
   ],
   "source": [
    "sum(link['length']/nodes_count > 80)"
   ]
  },
  {
   "cell_type": "markdown",
   "metadata": {
    "colab_type": "text",
    "id": "FHZ7OmKwRCR7"
   },
   "source": [
    "### Build node list"
   ]
  },
  {
   "cell_type": "code",
   "execution_count": 18,
   "metadata": {
    "colab": {
     "base_uri": "https://localhost:8080/",
     "height": 153
    },
    "colab_type": "code",
    "executionInfo": {
     "elapsed": 822,
     "status": "ok",
     "timestamp": 1550609087236,
     "user": {
      "displayName": "Bozhou Chen",
      "photoUrl": "https://lh5.googleusercontent.com/-jUkdAT7PKaw/AAAAAAAAAAI/AAAAAAAAAB4/elDQEnsc9p0/s64/photo.jpg",
      "userId": "03539460641108656711"
     },
     "user_tz": 300
    },
    "id": "2uQz45z-Q-cD",
    "outputId": "8819c24d-30a2-47bd-a5ef-7f243c6bf69f"
   },
   "outputs": [
    {
     "name": "stdout",
     "output_type": "stream",
     "text": [
      "     latitude  longitude elevation sequence       link\n",
      "0  51.4965800  9.3862299                  0   62007637\n",
      "1  51.4994700  9.3848799                  1   62007637\n",
      "2  51.4965800  9.3862299                  0  567329767\n",
      "3  51.4966899  9.3867100                  1  567329767\n",
      "4  51.4968000  9.3873199                  2  567329767\n",
      "Wall time: 365 ms\n"
     ]
    }
   ],
   "source": [
    "%%time\n",
    "columns = ['latitude', 'longitude', 'elevation', 'sequence', 'link']\n",
    "nodes = pd.DataFrame(columns = columns)\n",
    "def addNode(alink):\n",
    "  columns = ['latitude', 'longitude', 'elevation', 'sequence', 'link']\n",
    "  df = pd.DataFrame(columns = columns)\n",
    "  somenodes = alink.tolist()[-3]\n",
    "  for i in range(len(somenodes)):\n",
    "    df = df.append(pd.DataFrame(np.array([[somenodes[i][0], somenodes[i][1], somenodes[i][2], i, np.nan]]), columns = columns), ignore_index = True)\n",
    "  df['link'] = alink[0]\n",
    "  return df\n",
    "for index, row in link.iterrows():\n",
    "  nodes = nodes.append(addNode(row), ignore_index = True)\n",
    "  if index > 100:\n",
    "    break\n",
    "print(nodes.head())"
   ]
  },
  {
   "cell_type": "code",
   "execution_count": 19,
   "metadata": {
    "colab": {
     "base_uri": "https://localhost:8080/",
     "height": 153
    },
    "colab_type": "code",
    "executionInfo": {
     "elapsed": 26881,
     "status": "ok",
     "timestamp": 1550609040987,
     "user": {
      "displayName": "Bozhou Chen",
      "photoUrl": "https://lh5.googleusercontent.com/-jUkdAT7PKaw/AAAAAAAAAAI/AAAAAAAAAB4/elDQEnsc9p0/s64/photo.jpg",
      "userId": "03539460641108656711"
     },
     "user_tz": 300
    },
    "id": "HA39jHSrdymR",
    "outputId": "127e2429-62a3-44de-d26b-9346616d48b9"
   },
   "outputs": [
    {
     "name": "stdout",
     "output_type": "stream",
     "text": [
      "     latitude  longitude elevation  sequence       link\n",
      "0  51.4965800  9.3862299                   0   62007637\n",
      "1  51.4994700  9.3848799                   1   62007637\n",
      "2  51.4965800  9.3862299                   0  567329767\n",
      "3  51.4966899  9.3867100                   1  567329767\n",
      "4  51.4968000  9.3873199                   2  567329767\n",
      "Wall time: 20.5 s\n"
     ]
    }
   ],
   "source": [
    "%%time\n",
    "\n",
    "columns = ['latitude', 'longitude', 'elevation', 'sequence', 'link']\n",
    "nodes = []\n",
    "def addNodeList(alink):\n",
    "  somenodes = alink.tolist()[-3]\n",
    "  df = list([somenodes[i][0], somenodes[i][1], somenodes[i][2], i, alink[0]] for i in range(len(somenodes)))\n",
    "  return df\n",
    "for index, row in link.iterrows():\n",
    "  nodes.extend(addNodeList(row))\n",
    "  #if index > 10000:\n",
    "  #  break\n",
    "nodes = pd.DataFrame(nodes, columns = columns)\n",
    "print(nodes.head())"
   ]
  },
  {
   "cell_type": "code",
   "execution_count": 20,
   "metadata": {
    "colab": {
     "base_uri": "https://localhost:8080/",
     "height": 34
    },
    "colab_type": "code",
    "executionInfo": {
     "elapsed": 205,
     "status": "ok",
     "timestamp": 1550609045090,
     "user": {
      "displayName": "Bozhou Chen",
      "photoUrl": "https://lh5.googleusercontent.com/-jUkdAT7PKaw/AAAAAAAAAAI/AAAAAAAAAB4/elDQEnsc9p0/s64/photo.jpg",
      "userId": "03539460641108656711"
     },
     "user_tz": 300
    },
    "id": "XNsuzv5ZYD3b",
    "outputId": "dabc1d1d-cb58-45f5-ece0-43123dc293c7"
   },
   "outputs": [
    {
     "data": {
      "text/plain": [
       "(920066, 5)"
      ]
     },
     "execution_count": 20,
     "metadata": {},
     "output_type": "execute_result"
    }
   ],
   "source": [
    "nodes.shape"
   ]
  },
  {
   "cell_type": "markdown",
   "metadata": {
    "colab_type": "text",
    "id": "lwcKNq_ThFi5"
   },
   "source": [
    "For every probe data point, find the some nearest points, then derive some nearest links. Compare to match the probe to a link.\n",
    "\n",
    "Might need to consider the directions for each probe data, for example, find the cosine similarity and return the one with highest similarity. Or consider both distance and cosine similarity."
   ]
  },
  {
   "cell_type": "code",
   "execution_count": 21,
   "metadata": {
    "colab": {},
    "colab_type": "code",
    "id": "kg3mOSPYhYv2"
   },
   "outputs": [],
   "source": [
    "def findNearestLinks(probe, nodes, neighborhoodSize = 3):\n",
    "  return"
   ]
  },
  {
   "cell_type": "markdown",
   "metadata": {
    "colab_type": "text",
    "id": "7xD0tcnFAjUM"
   },
   "source": [
    "## Visualization"
   ]
  },
  {
   "cell_type": "markdown",
   "metadata": {
    "colab_type": "text",
    "id": "OdbKkloOAmrk"
   },
   "source": [
    "### Draw a Google map (doesn't work in CoLab)"
   ]
  },
  {
   "cell_type": "raw",
   "metadata": {
    "colab_type": "text",
    "id": "F-Sg9zU9DHhP"
   },
   "source": [
    "!pip install gmaps\n",
    "\n",
    "!jupyter nbextension enable --py --sys-prefix widgetsnbextension\n",
    "\n",
    "!jupyter nbextension enable --py --sys-prefix gmaps"
   ]
  },
  {
   "cell_type": "code",
   "execution_count": 22,
   "metadata": {},
   "outputs": [],
   "source": [
    "import gmaps\n",
    "import ipywidgets as widgets\n",
    "gmaps.configure()\n",
    "def coordMaker(nodes):\n",
    "    lst_lat = [float(i) for i in nodes['latitude']]\n",
    "    lst_lon = [float(i) for i in nodes['longitude']]\n",
    "    return (sum(lst_lat)/len(lst_lat), sum(lst_lon)/len(lst_lon))"
   ]
  },
  {
   "cell_type": "raw",
   "metadata": {
    "colab_type": "text",
    "id": "sOsFrvNkDQnw",
    "scrolled": true
   },
   "source": [
    "import time\n",
    "start_time = time.time()\n",
    "nodes_locations = nodes[['latitude', 'longitude']][0:2000].astype(dtype=np.float64)\n",
    "probe_locations = probe[['latitude', 'longitude']][0:2000].astype(dtype=np.float64)\n",
    "\n",
    "center_coordinates = coordMaker(nodes_locations)\n",
    "fig = gmaps.figure(center=center_coordinates, zoom_level=12, map_type='TERRAIN')\n",
    "probe_layer = gmaps.symbol_layer(\n",
    "    probe_locations, fill_color='red', stroke_color='red', scale=1\n",
    ")\n",
    "fig.add_layer(probe_layer)\n",
    "link_node_layer = gmaps.symbol_layer(\n",
    "    nodes_locations, fill_color='green', stroke_color='green', scale=1\n",
    ")\n",
    "fig.add_layer(link_node_layer)\n",
    "fig"
   ]
  },
  {
   "cell_type": "code",
   "execution_count": null,
   "metadata": {},
   "outputs": [],
   "source": [
    "nodes_locations = nodes[['latitude', 'longitude']].astype(dtype=np.float64)\n",
    "center_coordinates = coordMaker(nodes_locations)\n",
    "fig = gmaps.figure(center=center_coordinates, zoom_level=12, map_type='TERRAIN')\n",
    "heatmap_layer = gmaps.heatmap_layer(nodes_locations)\n",
    "fig.add_layer(heatmap_layer)\n",
    "fig"
   ]
  },
  {
   "cell_type": "code",
   "execution_count": 25,
   "metadata": {},
   "outputs": [],
   "source": [
    "probe_locations = probe[['latitude', 'longitude']].astype(dtype=np.float64)\n",
    "center_coordinates = coordMaker(probe_locations)\n",
    "fig = gmaps.figure(center=center_coordinates, zoom_level=12, map_type='TERRAIN')\n",
    "heatmap_layer = gmaps.heatmap_layer(probe_locations)\n",
    "fig.add_layer(heatmap_layer)\n",
    "fig"
   ]
  },
  {
   "cell_type": "code",
   "execution_count": 83,
   "metadata": {},
   "outputs": [
    {
     "data": {
      "text/plain": [
       "0          51.496868\n",
       "1          51.496682\n",
       "2          51.496705\n",
       "3          51.496749\n",
       "4          51.496864\n",
       "5          51.496930\n",
       "6          51.496957\n",
       "7          51.496952\n",
       "8          51.496949\n",
       "9          51.496944\n",
       "10         51.496941\n",
       "11         51.496939\n",
       "12         51.496937\n",
       "13         51.496936\n",
       "14         51.496936\n",
       "15         51.496935\n",
       "16         51.496934\n",
       "17         51.496932\n",
       "18         51.496932\n",
       "19         51.496931\n",
       "20         51.496931\n",
       "21         51.496930\n",
       "22         51.496931\n",
       "23         51.496931\n",
       "24         51.496931\n",
       "25         51.496932\n",
       "26         51.496932\n",
       "27         51.496932\n",
       "28         51.496932\n",
       "29         51.496932\n",
       "             ...    \n",
       "3375715    51.986303\n",
       "3375716    51.986310\n",
       "3375717    51.984307\n",
       "3375718    51.984345\n",
       "3375719    51.984497\n",
       "3375720    51.984520\n",
       "3375721    52.219883\n",
       "3375722    52.220698\n",
       "3375723    52.221118\n",
       "3375724    52.221432\n",
       "3375725    52.221615\n",
       "3375726    52.221931\n",
       "3375727    52.222208\n",
       "3375728    52.222128\n",
       "3375729    52.221380\n",
       "3375730    52.220894\n",
       "3375731    52.219871\n",
       "3375732    52.219288\n",
       "3375733    52.216969\n",
       "3375734    52.216880\n",
       "3375735    52.216912\n",
       "3375736    52.216955\n",
       "3375737    52.216980\n",
       "3375738    52.217010\n",
       "3375739    52.217033\n",
       "3375740    52.217058\n",
       "3375741    52.217080\n",
       "3375742    52.214741\n",
       "3375743    52.213855\n",
       "3375744    52.211173\n",
       "Name: latitude, Length: 3375745, dtype: float64"
      ]
     },
     "execution_count": 83,
     "metadata": {},
     "output_type": "execute_result"
    }
   ],
   "source": []
  },
  {
   "cell_type": "markdown",
   "metadata": {
    "colab_type": "text",
    "id": "BZeysvcSmjPG"
   },
   "source": [
    "### Draw a map using Basemap"
   ]
  },
  {
   "cell_type": "raw",
   "metadata": {
    "colab": {
     "base_uri": "https://localhost:8080/",
     "height": 350
    },
    "colab_type": "code",
    "executionInfo": {
     "elapsed": 1243,
     "status": "error",
     "timestamp": 1550610852506,
     "user": {
      "displayName": "Bozhou Chen",
      "photoUrl": "https://lh5.googleusercontent.com/-jUkdAT7PKaw/AAAAAAAAAAI/AAAAAAAAAB4/elDQEnsc9p0/s64/photo.jpg",
      "userId": "03539460641108656711"
     },
     "user_tz": 300
    },
    "id": "ZNAR3PEbdCBu",
    "outputId": "cf377069-f659-441c-d72e-3cee4d27947e"
   },
   "source": [
    "%matplotlib inline\n",
    "!conda install basemap\n",
    "import numpy as np\n",
    "import matplotlib.pyplot as plt\n",
    "from mpl_toolkits.basemap import Basemap"
   ]
  },
  {
   "cell_type": "code",
   "execution_count": 0,
   "metadata": {
    "colab": {},
    "colab_type": "code",
    "id": "h62MoWA_dsG-"
   },
   "outputs": [],
   "source": []
  },
  {
   "cell_type": "code",
   "execution_count": 0,
   "metadata": {
    "colab": {},
    "colab_type": "code",
    "id": "wZ6q81AWCa1f"
   },
   "outputs": [],
   "source": []
  }
 ],
 "metadata": {
  "colab": {
   "collapsed_sections": [],
   "name": "Main.ipynb",
   "provenance": [],
   "toc_visible": true,
   "version": "0.3.2"
  },
  "kernelspec": {
   "display_name": "Python 3",
   "language": "python",
   "name": "python3"
  },
  "language_info": {
   "codemirror_mode": {
    "name": "ipython",
    "version": 3
   },
   "file_extension": ".py",
   "mimetype": "text/x-python",
   "name": "python",
   "nbconvert_exporter": "python",
   "pygments_lexer": "ipython3",
   "version": "3.6.6"
  }
 },
 "nbformat": 4,
 "nbformat_minor": 1
}

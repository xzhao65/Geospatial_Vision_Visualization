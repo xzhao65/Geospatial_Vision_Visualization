{
 "cells": [
  {
   "cell_type": "code",
   "execution_count": 36,
   "metadata": {},
   "outputs": [],
   "source": [
    "import os\n",
    "file_path = 'D:/Data/probe_match'"
   ]
  },
  {
   "cell_type": "code",
   "execution_count": 37,
   "metadata": {},
   "outputs": [],
   "source": [
    "import numpy as np\n",
    "import pandas as pd"
   ]
  },
  {
   "cell_type": "code",
   "execution_count": 38,
   "metadata": {},
   "outputs": [
    {
     "name": "stdout",
     "output_type": "stream",
     "text": [
      "probe shape:  (3375745, 10)\n"
     ]
    }
   ],
   "source": [
    "#probe = pd.read_csv(os.path.join(file_path, 'Partition6467ProbePoints.csv'), names = ['sampleID', 'dateTime', 'sourceCode', 'latitude', 'longitude', 'altitude', 'speed', 'heading'])\n",
    "probe = pd.read_csv(os.path.join(file_path, 'Transformed_ProbePoints.csv'), names = ['sampleID', 'dateTime', 'sourceCode', 'latitude', 'longitude', 'altitude', 'speed', 'heading', 'X', 'Y'], header = 0)\n",
    "print(\"probe shape: \", probe.shape)"
   ]
  },
  {
   "cell_type": "code",
   "execution_count": 39,
   "metadata": {},
   "outputs": [
    {
     "data": {
      "text/html": [
       "<div>\n",
       "<style scoped>\n",
       "    .dataframe tbody tr th:only-of-type {\n",
       "        vertical-align: middle;\n",
       "    }\n",
       "\n",
       "    .dataframe tbody tr th {\n",
       "        vertical-align: top;\n",
       "    }\n",
       "\n",
       "    .dataframe thead th {\n",
       "        text-align: right;\n",
       "    }\n",
       "</style>\n",
       "<table border=\"1\" class=\"dataframe\">\n",
       "  <thead>\n",
       "    <tr style=\"text-align: right;\">\n",
       "      <th></th>\n",
       "      <th>sampleID</th>\n",
       "      <th>dateTime</th>\n",
       "      <th>sourceCode</th>\n",
       "      <th>latitude</th>\n",
       "      <th>longitude</th>\n",
       "      <th>altitude</th>\n",
       "      <th>speed</th>\n",
       "      <th>heading</th>\n",
       "      <th>X</th>\n",
       "      <th>Y</th>\n",
       "    </tr>\n",
       "  </thead>\n",
       "  <tbody>\n",
       "    <tr>\n",
       "      <th>0</th>\n",
       "      <td>3496</td>\n",
       "      <td>6/12/2009 6:12:49 AM</td>\n",
       "      <td>13</td>\n",
       "      <td>51.496868</td>\n",
       "      <td>9.386022</td>\n",
       "      <td>200</td>\n",
       "      <td>23</td>\n",
       "      <td>339</td>\n",
       "      <td>-77285.189075</td>\n",
       "      <td>55811.256229</td>\n",
       "    </tr>\n",
       "    <tr>\n",
       "      <th>1</th>\n",
       "      <td>3496</td>\n",
       "      <td>6/12/2009 6:12:54 AM</td>\n",
       "      <td>13</td>\n",
       "      <td>51.496682</td>\n",
       "      <td>9.386157</td>\n",
       "      <td>200</td>\n",
       "      <td>10</td>\n",
       "      <td>129</td>\n",
       "      <td>-77276.134716</td>\n",
       "      <td>55790.442706</td>\n",
       "    </tr>\n",
       "    <tr>\n",
       "      <th>2</th>\n",
       "      <td>3496</td>\n",
       "      <td>6/12/2009 6:12:59 AM</td>\n",
       "      <td>13</td>\n",
       "      <td>51.496705</td>\n",
       "      <td>9.386422</td>\n",
       "      <td>201</td>\n",
       "      <td>21</td>\n",
       "      <td>60</td>\n",
       "      <td>-77257.710385</td>\n",
       "      <td>55792.679445</td>\n",
       "    </tr>\n",
       "    <tr>\n",
       "      <th>3</th>\n",
       "      <td>3496</td>\n",
       "      <td>6/12/2009 6:13:04 AM</td>\n",
       "      <td>13</td>\n",
       "      <td>51.496749</td>\n",
       "      <td>9.386840</td>\n",
       "      <td>201</td>\n",
       "      <td>0</td>\n",
       "      <td>360</td>\n",
       "      <td>-77228.660753</td>\n",
       "      <td>55797.178015</td>\n",
       "    </tr>\n",
       "    <tr>\n",
       "      <th>4</th>\n",
       "      <td>3496</td>\n",
       "      <td>6/12/2009 6:13:09 AM</td>\n",
       "      <td>13</td>\n",
       "      <td>51.496864</td>\n",
       "      <td>9.387294</td>\n",
       "      <td>199</td>\n",
       "      <td>0</td>\n",
       "      <td>360</td>\n",
       "      <td>-77196.969435</td>\n",
       "      <td>55809.445141</td>\n",
       "    </tr>\n",
       "  </tbody>\n",
       "</table>\n",
       "</div>"
      ],
      "text/plain": [
       "   sampleID              dateTime  sourceCode   latitude  longitude  altitude  \\\n",
       "0      3496  6/12/2009 6:12:49 AM          13  51.496868   9.386022       200   \n",
       "1      3496  6/12/2009 6:12:54 AM          13  51.496682   9.386157       200   \n",
       "2      3496  6/12/2009 6:12:59 AM          13  51.496705   9.386422       201   \n",
       "3      3496  6/12/2009 6:13:04 AM          13  51.496749   9.386840       201   \n",
       "4      3496  6/12/2009 6:13:09 AM          13  51.496864   9.387294       199   \n",
       "\n",
       "   speed  heading             X             Y  \n",
       "0     23      339 -77285.189075  55811.256229  \n",
       "1     10      129 -77276.134716  55790.442706  \n",
       "2     21       60 -77257.710385  55792.679445  \n",
       "3      0      360 -77228.660753  55797.178015  \n",
       "4      0      360 -77196.969435  55809.445141  "
      ]
     },
     "execution_count": 39,
     "metadata": {},
     "output_type": "execute_result"
    }
   ],
   "source": [
    "probe.head()"
   ]
  },
  {
   "cell_type": "code",
   "execution_count": 40,
   "metadata": {},
   "outputs": [
    {
     "name": "stdout",
     "output_type": "stream",
     "text": [
      "100\n"
     ]
    }
   ],
   "source": [
    "# convert df into list\n",
    "id_count = 0\n",
    "probe_list = []\n",
    "\n",
    "for id in probe['sampleID'].unique():\n",
    "    \n",
    "    probe_list.append(probe[probe['sampleID'] == id][['longitude', 'latitude', 'altitude', 'speed', 'heading']].values.tolist())\n",
    "          \n",
    "    id_count += 1\n",
    "    if id_count >= 100:\n",
    "        break\n",
    "        \n",
    "print(id_count)"
   ]
  },
  {
   "cell_type": "code",
   "execution_count": 42,
   "metadata": {},
   "outputs": [
    {
     "name": "stdout",
     "output_type": "stream",
     "text": [
      "[[8.45239254646003, 51.893609426915596, 136.0, 132.0, 54.0], [8.45450562424958, 51.894508218392716, 137.0, 128.0, 56.0], [8.45676429569721, 51.8953820317984, 137.0, 134.0, 59.0], [8.45918473787606, 51.896224245429, 137.0, 139.0, 62.0], [8.4954188670963, 51.903797462582595, 148.0, 142.0, 71.0]]\n"
     ]
    }
   ],
   "source": [
    "# build trajectory\n",
    "test = probe_list[99]\n",
    "print(test[:5])"
   ]
  },
  {
   "cell_type": "raw",
   "metadata": {},
   "source": [
    "# trajectory visulization\n",
    "import gmaps\n",
    "import ipywidgets as widgets\n",
    "gmaps.configure()\n",
    "def coordMaker(traj):\n",
    "    lst_lat = [float(i[0]) for i in traj]\n",
    "    lst_lon = [float(i[1]) for i in traj]\n",
    "    return (sum(lst_lat)/len(lst_lat), sum(lst_lon)/len(lst_lon))\n",
    "def traj_to_df(traj):\n",
    "    labels = ['longitude', 'latitude', 'altitude', 'speed', 'heading']\n",
    "    return pd.DataFrame.from_records(traj, columns=labels)\n",
    "center_coordinates = coordMaker(test)\n",
    "fig = gmaps.figure(center=center_coordinates, zoom_level=14, map_type='TERRAIN')\n",
    "probe_layer = gmaps.symbol_layer(\n",
    "    traj_to_df(test)[['latitude', 'longitude']], fill_color='red', stroke_color='red', scale=2\n",
    ")\n",
    "fig.add_layer(probe_layer)\n",
    "fig"
   ]
  },
  {
   "cell_type": "code",
   "execution_count": 47,
   "metadata": {},
   "outputs": [
    {
     "data": {
      "application/vnd.jupyter.widget-view+json": {
       "model_id": "c88826ce25dd497b806e0cc5409004c8",
       "version_major": 2,
       "version_minor": 0
      },
      "text/html": [
       "<p>Failed to display Jupyter Widget of type <code>Figure</code>.</p>\n",
       "<p>\n",
       "  If you're reading this message in the Jupyter Notebook or JupyterLab Notebook, it may mean\n",
       "  that the widgets JavaScript is still loading. If this message persists, it\n",
       "  likely means that the widgets JavaScript library is either not installed or\n",
       "  not enabled. See the <a href=\"https://ipywidgets.readthedocs.io/en/stable/user_install.html\">Jupyter\n",
       "  Widgets Documentation</a> for setup instructions.\n",
       "</p>\n",
       "<p>\n",
       "  If you're reading this message in another frontend (for example, a static\n",
       "  rendering on GitHub or <a href=\"https://nbviewer.jupyter.org/\">NBViewer</a>),\n",
       "  it may mean that your frontend doesn't currently support widgets.\n",
       "</p>\n"
      ],
      "text/plain": [
       "Figure(layout=FigureLayout(height='420px'))"
      ]
     },
     "metadata": {},
     "output_type": "display_data"
    }
   ],
   "source": [
    "# trajectory visulization function\n",
    "\n",
    "import gmaps\n",
    "import ipywidgets as widgets\n",
    "gmaps.configure()\n",
    "def coordMaker(traj):\n",
    "    lst_lat = [float(i[1]) for i in traj]\n",
    "    lst_lon = [float(i[0]) for i in traj]\n",
    "    return (sum(lst_lat)/len(lst_lat), sum(lst_lon)/len(lst_lon))\n",
    "def traj_to_df(traj):\n",
    "    labels = ['longitude', 'latitude', 'altitude', 'speed', 'heading']\n",
    "    return pd.DataFrame.from_records(traj, columns=labels)\n",
    "def draw_traj(traj):\n",
    "    if len(traj) > 50:\n",
    "        zoom = 13\n",
    "    else:\n",
    "        zoom = 14\n",
    "    center_coordinates = coordMaker(traj)\n",
    "    fig = gmaps.figure(center=center_coordinates, zoom_level=zoom, map_type='TERRAIN')\n",
    "    probe_layer = gmaps.symbol_layer(\n",
    "        traj_to_df(traj)[['latitude', 'longitude']], fill_color='red', stroke_color='red', scale=2\n",
    "    )\n",
    "    fig.add_layer(probe_layer)\n",
    "    return fig\n",
    "draw_traj(test)"
   ]
  },
  {
   "cell_type": "code",
   "execution_count": 45,
   "metadata": {},
   "outputs": [
    {
     "data": {
      "text/plain": [
       "[[8.45239254646003, 51.893609426915596, 136.0, 132.0, 54.0],\n",
       " [8.45450562424958, 51.894508218392716, 137.0, 128.0, 56.0],\n",
       " [8.45676429569721, 51.8953820317984, 137.0, 134.0, 59.0],\n",
       " [8.45918473787606, 51.896224245429, 137.0, 139.0, 62.0],\n",
       " [8.4954188670963, 51.903797462582595, 148.0, 142.0, 71.0],\n",
       " [8.53787739761174, 51.93957326933739, 166.0, 135.0, 33.0],\n",
       " [8.53976542130113, 51.9411653280258, 168.0, 134.0, 39.0],\n",
       " [8.542037755250929, 51.9426794350147, 170.0, 142.0, 46.0],\n",
       " [8.543769456446169, 51.943633547052706, 171.0, 142.0, 50.0]]"
      ]
     },
     "execution_count": 45,
     "metadata": {},
     "output_type": "execute_result"
    }
   ],
   "source": [
    "# match the reference point\n",
    "## precise\n",
    "test"
   ]
  },
  {
   "cell_type": "raw",
   "metadata": {},
   "source": [
    "%%time\n",
    "# build nodes list\n",
    "link = pd.read_csv(os.path.join(file_path, 'Partition6467LinkData.csv'), names = ['linkPVID', 'refNodeID', 'nrefNodeID', 'length', 'functionalClass', 'directionOfTravel', 'speedCategory', 'fromRefSpeedLimit', 'toRefSpeedLimit', 'fromRefNumLanes', 'toRefNumLanes', 'multiDigitized', 'urban', 'timeZone', 'shapeInfo', 'curvatureInfo', 'slopeInfo'])\n",
    "def nan_split(text, deli):\n",
    "    import math\n",
    "    try:\n",
    "        r = text.split(deli)\n",
    "    except:\n",
    "        r = []\n",
    "    return r\n",
    "link['shapeInfo'] = link['shapeInfo'].map(lambda x: list(map(lambda y: nan_split(y, '/'), nan_split(x, '|'))))\n",
    "link['curvatureInfo'] = link['curvatureInfo'].map(lambda x: list(map(lambda y: nan_split(y, '/'), nan_split(x, '|'))))\n",
    "link['slopeInfo'] = link['slopeInfo'].map(lambda x: list(map(lambda y: nan_split(y, '/'), nan_split(x, '|'))))\n",
    "nodes = []\n",
    "nodes_highway = []\n",
    "nodes_local = []\n",
    "nodes_ref = []\n",
    "nodes_nref = []\n",
    "def addAllNodeList(alink):\n",
    "    somenodes = alink.tolist()[-3]\n",
    "    nodes_all = list([somenodes[i][0], somenodes[i][1], somenodes[i][2], i, alink[0]] for i in range(len(somenodes)))\n",
    "    nodes_ref = [somenodes[0][0], somenodes[0][1], somenodes[0][2], alink[0], alink[1]]\n",
    "    nodes_nref = [somenodes[-1][0], somenodes[-1][1], somenodes[-1][2], alink[0], alink[2]]\n",
    "    category = alink[4]\n",
    "    return [nodes_all, nodes_ref, nodes_nref, category]\n",
    "for index, row in link.iterrows():\n",
    "    [v_nodes_all, v_nodes_ref, v_nodes_nref, v_category] = addAllNodeList(row)\n",
    "    nodes.extend(v_nodes_all)\n",
    "    nodes_ref.append(v_nodes_ref)\n",
    "    nodes_nref.append(v_nodes_nref)\n",
    "    if v_category < 5:\n",
    "        nodes_highway.extend(v_nodes_all)\n",
    "    else:\n",
    "        nodes_local.extend(v_nodes_all)\n",
    "    #if index > 5000:\n",
    "    #    break\n",
    "nodes = pd.DataFrame(nodes, columns = ['latitude', 'longitude', 'elevation', 'sequence', 'link'])\n",
    "nodes_highway = pd.DataFrame(nodes_highway, columns = ['latitude', 'longitude', 'elevation', 'sequence', 'link'])\n",
    "nodes_local = pd.DataFrame(nodes_local, columns = ['latitude', 'longitude', 'elevation', 'sequence', 'link'])\n",
    "nodes_ref = pd.DataFrame(nodes_ref, columns = ['latitude', 'longitude', 'elevation', 'link', 'refNodeID'])\n",
    "nodes_nref = pd.DataFrame(nodes_nref, columns = ['latitude', 'longitude', 'elevation', 'link', 'nrefNodeID'])"
   ]
  },
  {
   "cell_type": "code",
   "execution_count": null,
   "metadata": {},
   "outputs": [],
   "source": [
    "%%time\n",
    "# build nodes list with XY coordinates\n",
    "link = pd.read_csv(os.path.join(file_path, 'Partition6467LinkData.csv'), names = ['linkPVID', 'refNodeID', 'nrefNodeID', 'length', 'functionalClass', 'directionOfTravel', 'speedCategory', 'fromRefSpeedLimit', 'toRefSpeedLimit', 'fromRefNumLanes', 'toRefNumLanes', 'multiDigitized', 'urban', 'timeZone', 'shapeInfo', 'curvatureInfo', 'slopeInfo'])\n",
    "def nan_split(text, deli):\n",
    "    import math\n",
    "    try:\n",
    "        r = text.split(deli)\n",
    "    except:\n",
    "        r = []\n",
    "    return r\n",
    "link['shapeInfo'] = link['shapeInfo'].map(lambda x: list(map(lambda y: nan_split(y, '/'), nan_split(x, '|'))))\n",
    "link['curvatureInfo'] = link['curvatureInfo'].map(lambda x: list(map(lambda y: nan_split(y, '/'), nan_split(x, '|'))))\n",
    "link['slopeInfo'] = link['slopeInfo'].map(lambda x: list(map(lambda y: nan_split(y, '/'), nan_split(x, '|'))))\n",
    "nodes = []\n",
    "nodes_highway = []\n",
    "nodes_local = []\n",
    "nodes_ref = []\n",
    "nodes_nref = []\n",
    "def addAllNodeList(alink):\n",
    "    somenodes = alink.tolist()[-3]\n",
    "    nodes_all = list([somenodes[i][0], somenodes[i][1], somenodes[i][2], i, alink[0]] for i in range(len(somenodes)))\n",
    "    nodes_ref = [somenodes[0][0], somenodes[0][1], somenodes[0][2], alink[0], alink[1]]\n",
    "    nodes_nref = [somenodes[-1][0], somenodes[-1][1], somenodes[-1][2], alink[0], alink[2]]\n",
    "    category = alink[4]\n",
    "    return [nodes_all, nodes_ref, nodes_nref, category]\n",
    "for index, row in link.iterrows():\n",
    "    [v_nodes_all, v_nodes_ref, v_nodes_nref, v_category] = addAllNodeList(row)\n",
    "    nodes.extend(v_nodes_all)\n",
    "    nodes_ref.append(v_nodes_ref)\n",
    "    nodes_nref.append(v_nodes_nref)\n",
    "    if v_category < 5:\n",
    "        nodes_highway.extend(v_nodes_all)\n",
    "    else:\n",
    "        nodes_local.extend(v_nodes_all)\n",
    "    #if index > 5000:\n",
    "    #    break\n",
    "nodes = pd.DataFrame(nodes, columns = ['latitude', 'longitude', 'elevation', 'sequence', 'link'])\n",
    "nodes_highway = pd.DataFrame(nodes_highway, columns = ['latitude', 'longitude', 'elevation', 'sequence', 'link'])\n",
    "nodes_local = pd.DataFrame(nodes_local, columns = ['latitude', 'longitude', 'elevation', 'sequence', 'link'])\n",
    "nodes_ref = pd.DataFrame(nodes_ref, columns = ['latitude', 'longitude', 'elevation', 'link', 'refNodeID'])\n",
    "nodes_nref = pd.DataFrame(nodes_nref, columns = ['latitude', 'longitude', 'elevation', 'link', 'nrefNodeID'])"
   ]
  },
  {
   "cell_type": "raw",
   "metadata": {},
   "source": [
    "print(nodes)\n",
    "print(nodes_highway)\n",
    "print(nodes_local)\n",
    "print(nodes_ref)\n",
    "print(nodes_nref)"
   ]
  },
  {
   "cell_type": "code",
   "execution_count": null,
   "metadata": {},
   "outputs": [],
   "source": [
    "def nearestNodes(x, y, length):\n",
    "    return nodes[nodes['X'] > (x - length)\n",
    "                 & nodes['X'] < (x + length)\n",
    "                 & nodes['Y'] > (y - length)\n",
    "                 & nodes['Y'] < (y + length)]['link'].unique()\n"
   ]
  },
  {
   "cell_type": "code",
   "execution_count": null,
   "metadata": {},
   "outputs": [],
   "source": []
  }
 ],
 "metadata": {
  "kernelspec": {
   "display_name": "Python 3",
   "language": "python",
   "name": "python3"
  },
  "language_info": {
   "codemirror_mode": {
    "name": "ipython",
    "version": 3
   },
   "file_extension": ".py",
   "mimetype": "text/x-python",
   "name": "python",
   "nbconvert_exporter": "python",
   "pygments_lexer": "ipython3",
   "version": "3.6.6"
  }
 },
 "nbformat": 4,
 "nbformat_minor": 2
}

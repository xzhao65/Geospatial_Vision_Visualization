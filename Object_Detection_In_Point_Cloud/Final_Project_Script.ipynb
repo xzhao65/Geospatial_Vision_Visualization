{
 "cells": [
  {
   "cell_type": "markdown",
   "metadata": {},
   "source": [
    "# Object Detection in Point Cloud: Lane Marking\n",
    "### Description\n",
    "Object detection in Point Cloud is popular in HD Map and sensor-based autonomous driving. There\n",
    "basically four types of object you can obtain in daily scenario: road surface - contains painted lane\n",
    "marking and pavement area, support facility - contains road boundary (guardrail and curb), road\n",
    "sign, light pole, etc., uncorrelated object - for example, sidewalk, building, etc., and moving object -\n",
    "such like pedestrian, vehicle, bicycle, etc.\n",
    "\n",
    "In this project, please search references, design and prototype your lane marking detection\n",
    "algorithm."
   ]
  },
  {
   "cell_type": "markdown",
   "metadata": {},
   "source": [
    "# Part 1: Map Projection\n",
    "The point cloud data is written in latitude, and longitute which is hard to get distance between two points, computer angles, etc.\n",
    "\n",
    "So here, our first step is to using a map projection which has nearly no distortion in the area of point cloud.\n",
    "\n",
    "By https://epsg.io/?q=6875, we use 6875."
   ]
  },
  {
   "cell_type": "code",
   "execution_count": 69,
   "metadata": {},
   "outputs": [],
   "source": [
    "import time\n",
    "import math\n",
    "import pandas as pd\n",
    "import matplotlib.pyplot as plt\n",
    "import pyproj\n",
    "import pptk\n",
    "from pyproj import Transformer,transform\n",
    "from sklearn.cluster import DBSCAN\n",
    "from sklearn.decomposition import PCA\n",
    "from sklearn import linear_model\n",
    "from sklearn.linear_model import LinearRegression\n",
    "from matplotlib import pyplot as plt\n",
    "import numpy as np"
   ]
  },
  {
   "cell_type": "code",
   "execution_count": 70,
   "metadata": {},
   "outputs": [],
   "source": [
    "transformer = Transformer.from_proj(4326,6875)"
   ]
  },
  {
   "cell_type": "code",
   "execution_count": 71,
   "metadata": {},
   "outputs": [],
   "source": [
    "def transfer(lon,lat):\n",
    "    long,lati = lon,lat\n",
    "    x,y = transformer.transform(lati,long)\n",
    "    return(x, y)"
   ]
  },
  {
   "cell_type": "code",
   "execution_count": 4,
   "metadata": {},
   "outputs": [],
   "source": [
    "raw_data=pd.read_csv('C:/Users/zhaoxiangyu/Desktop/final_project_data/final_project_point_cloud.fuse',sep=' ',header=None,names=['latitude','longitude','altitude','intensity'])"
   ]
  },
  {
   "cell_type": "code",
   "execution_count": 64,
   "metadata": {},
   "outputs": [],
   "source": [
    "data=raw_data.copy()"
   ]
  },
  {
   "cell_type": "code",
   "execution_count": 6,
   "metadata": {},
   "outputs": [
    {
     "data": {
      "text/html": [
       "<div>\n",
       "<style scoped>\n",
       "    .dataframe tbody tr th:only-of-type {\n",
       "        vertical-align: middle;\n",
       "    }\n",
       "\n",
       "    .dataframe tbody tr th {\n",
       "        vertical-align: top;\n",
       "    }\n",
       "\n",
       "    .dataframe thead th {\n",
       "        text-align: right;\n",
       "    }\n",
       "</style>\n",
       "<table border=\"1\" class=\"dataframe\">\n",
       "  <thead>\n",
       "    <tr style=\"text-align: right;\">\n",
       "      <th></th>\n",
       "      <th>latitude</th>\n",
       "      <th>longitude</th>\n",
       "      <th>altitude</th>\n",
       "      <th>intensity</th>\n",
       "    </tr>\n",
       "  </thead>\n",
       "  <tbody>\n",
       "    <tr>\n",
       "      <th>0</th>\n",
       "      <td>45.903883</td>\n",
       "      <td>11.028414</td>\n",
       "      <td>232.4648</td>\n",
       "      <td>10</td>\n",
       "    </tr>\n",
       "    <tr>\n",
       "      <th>1</th>\n",
       "      <td>45.903683</td>\n",
       "      <td>11.028221</td>\n",
       "      <td>234.4706</td>\n",
       "      <td>5</td>\n",
       "    </tr>\n",
       "    <tr>\n",
       "      <th>2</th>\n",
       "      <td>45.903683</td>\n",
       "      <td>11.028222</td>\n",
       "      <td>234.4459</td>\n",
       "      <td>7</td>\n",
       "    </tr>\n",
       "    <tr>\n",
       "      <th>3</th>\n",
       "      <td>45.903682</td>\n",
       "      <td>11.028224</td>\n",
       "      <td>234.4307</td>\n",
       "      <td>7</td>\n",
       "    </tr>\n",
       "    <tr>\n",
       "      <th>4</th>\n",
       "      <td>45.903681</td>\n",
       "      <td>11.028226</td>\n",
       "      <td>234.4232</td>\n",
       "      <td>7</td>\n",
       "    </tr>\n",
       "  </tbody>\n",
       "</table>\n",
       "</div>"
      ],
      "text/plain": [
       "    latitude  longitude  altitude  intensity\n",
       "0  45.903883  11.028414  232.4648         10\n",
       "1  45.903683  11.028221  234.4706          5\n",
       "2  45.903683  11.028222  234.4459          7\n",
       "3  45.903682  11.028224  234.4307          7\n",
       "4  45.903681  11.028226  234.4232          7"
      ]
     },
     "execution_count": 6,
     "metadata": {},
     "output_type": "execute_result"
    }
   ],
   "source": [
    "data.head()"
   ]
  },
  {
   "cell_type": "code",
   "execution_count": 7,
   "metadata": {},
   "outputs": [
    {
     "data": {
      "text/plain": [
       "(430736, 4)"
      ]
     },
     "execution_count": 7,
     "metadata": {},
     "output_type": "execute_result"
    }
   ],
   "source": [
    "data.shape"
   ]
  },
  {
   "cell_type": "code",
   "execution_count": 72,
   "metadata": {},
   "outputs": [],
   "source": [
    "data['X'] = data.apply(lambda x: transfer(x['longitude'],x['latitude'])[1], axis=1)\n",
    "data['Y'] = data.apply(lambda x: transfer(x['longitude'],x['latitude'])[0], axis=1)"
   ]
  },
  {
   "cell_type": "markdown",
   "metadata": {},
   "source": [
    "# Part 2: Data Mining and Visualization"
   ]
  },
  {
   "cell_type": "code",
   "execution_count": 9,
   "metadata": {},
   "outputs": [
    {
     "data": {
      "text/plain": [
       "(array([4.07413e+05, 1.48390e+04, 7.04000e+03, 1.23100e+03, 1.26000e+02,\n",
       "        5.20000e+01, 1.50000e+01, 3.00000e+00, 1.10000e+01, 6.00000e+00]),\n",
       " array([  0. ,  25.5,  51. ,  76.5, 102. , 127.5, 153. , 178.5, 204. ,\n",
       "        229.5, 255. ]),\n",
       " <a list of 10 Patch objects>)"
      ]
     },
     "execution_count": 9,
     "metadata": {},
     "output_type": "execute_result"
    },
    {
     "data": {
      "image/png": "[encoded data removed]",
      "text/plain": [
       "<Figure size 432x288 with 1 Axes>"
      ]
     },
     "metadata": {
      "needs_background": "light"
     },
     "output_type": "display_data"
    }
   ],
   "source": [
    "plt.hist(data['intensity'],range=(data['intensity'].min(),data['intensity'].max()))"
   ]
  },
  {
   "cell_type": "code",
   "execution_count": 285,
   "metadata": {},
   "outputs": [
    {
     "data": {
      "text/plain": [
       "(array([9.73500e+03, 7.30200e+03, 3.52262e+05, 4.82620e+04, 7.61900e+03,\n",
       "        4.92700e+03, 1.63000e+02, 1.53000e+02, 1.27000e+02, 1.86000e+02]),\n",
       " array([221.8044 , 223.07449, 224.34458, 225.61467, 226.88476, 228.15485,\n",
       "        229.42494, 230.69503, 231.96512, 233.23521, 234.5053 ]),\n",
       " <a list of 10 Patch objects>)"
      ]
     },
     "execution_count": 285,
     "metadata": {},
     "output_type": "execute_result"
    },
    {
     "data": {
      "image/png": "[encoded data removed]",
      "text/plain": [
       "<matplotlib.figure.Figure at 0x1a10825fc50>"
      ]
     },
     "metadata": {},
     "output_type": "display_data"
    }
   ],
   "source": [
    "plt.hist(data['altitude'],range=(data['altitude'].min(),data['altitude'].max()))"
   ]
  },
  {
   "cell_type": "markdown",
   "metadata": {},
   "source": [
    "# Part 3: A Small Tool for Observation"
   ]
  },
  {
   "cell_type": "code",
   "execution_count": 25,
   "metadata": {},
   "outputs": [],
   "source": [
    "def pptk_visualization(data_x,data_y,scale_min,scale_max,rotation=False):\n",
    "    v=pptk.viewer(data_x)\n",
    "    v.attributes(data_y)\n",
    "    v.color_map('jet',scale=[scale_min,scale_max])\n",
    "    v.set(point_size=0.1)\n",
    "    v.set(show_axis=False)\n",
    "\n",
    "    camera_moved_x = 41.8\n",
    "    camera_moved_y = 77.3\n",
    "\n",
    "\n",
    "    # camera part\n",
    "    poses = []\n",
    "    camera_start_point_x=6924713\n",
    "    camera_start_point_y=5078241\n",
    "    camera_start_point_z=227.50\n",
    "    if not rotation:\n",
    "        frames=2\n",
    "        for i in range(frames):\n",
    "            poses.append([camera_start_point_x,camera_start_point_y,camera_start_point_z,math.atan(camera_moved_y/camera_moved_x)+np.pi ,1/10*np.pi ,100])\n",
    "    else:\n",
    "        frames=100\n",
    "        poses.append([camera_start_point_x,camera_start_point_y,camera_start_point_z,2*np.pi/frames*i ,1/4*np.pi ,5])\n",
    "        \n",
    "    v.play(poses,1* np.arange(frames), repeat=True, interp='linear')\n",
    "    return v,poses\n",
    "def record(v,prefix):\n",
    "    v.record('C:/Users/zhaoxiangyu/Desktop/final_project_data/recording', poses,prefix=prefix,fps=1)"
   ]
  },
  {
   "cell_type": "code",
   "execution_count": 50,
   "metadata": {},
   "outputs": [],
   "source": [
    "viewer,poses=pptk_visualization(data[['X','Y','altitude']],data['intensity'],scale_min=0,scale_max=30)"
   ]
  },
  {
   "cell_type": "code",
   "execution_count": 20,
   "metadata": {},
   "outputs": [],
   "source": [
    "record(viewer,prefix='Original_Data')"
   ]
  },
  {
   "cell_type": "markdown",
   "metadata": {},
   "source": [
    "# Part 4: Lane Mark Detection\n",
    "\n",
    "## Approch 1: Planarity Measures"
   ]
  },
  {
   "cell_type": "markdown",
   "metadata": {},
   "source": [
    "### 1.1: Compute Planarity Measures\n",
    "Pass 1: Compute surface normal approximation for each point (Using pptk, see below)\n",
    "\n",
    "Pass 2: Compute the variance of normalswithin the neighborhood"
   ]
  },
  {
   "cell_type": "markdown",
   "metadata": {},
   "source": [
    "#### 1.1.1 Using pptk (Point Processing Toolkit) compute normals"
   ]
  },
  {
   "cell_type": "code",
   "execution_count": null,
   "metadata": {},
   "outputs": [],
   "source": [
    "normals_values=pptk.estimate_normals(points=data[['X','Y','altitude']].to_numpy(),k=300,r=1.5)"
   ]
  },
  {
   "cell_type": "code",
   "execution_count": null,
   "metadata": {},
   "outputs": [],
   "source": [
    "normals= pd.DataFrame(normals_values)\n",
    "normals.columns =['normal_x','normal_y','normal_z']"
   ]
  },
  {
   "cell_type": "code",
   "execution_count": null,
   "metadata": {},
   "outputs": [],
   "source": [
    "normals.head()"
   ]
  },
  {
   "cell_type": "code",
   "execution_count": null,
   "metadata": {},
   "outputs": [],
   "source": [
    "data=data.join(normals)"
   ]
  },
  {
   "cell_type": "code",
   "execution_count": null,
   "metadata": {},
   "outputs": [],
   "source": [
    "data.head()"
   ]
  },
  {
   "cell_type": "code",
   "execution_count": null,
   "metadata": {},
   "outputs": [],
   "source": [
    "data['normal']=data.apply(lambda x: np.array([x['normal_x'],x['normal_y'],x['normal_z']]),axis=1)"
   ]
  },
  {
   "cell_type": "code",
   "execution_count": null,
   "metadata": {},
   "outputs": [],
   "source": [
    "data.head()"
   ]
  },
  {
   "cell_type": "markdown",
   "metadata": {},
   "source": [
    "#### 1.1.2 Build k-d tree & Compute Planarity Measure (PM)"
   ]
  },
  {
   "cell_type": "code",
   "execution_count": null,
   "metadata": {},
   "outputs": [],
   "source": [
    "tree=pptk.kdtree._build(data[['X','Y','altitude']].to_numpy())"
   ]
  },
  {
   "cell_type": "code",
   "execution_count": null,
   "metadata": {},
   "outputs": [],
   "source": [
    "xyz=data[['X','Y','altitude']].values"
   ]
  },
  {
   "cell_type": "code",
   "execution_count": null,
   "metadata": {},
   "outputs": [],
   "source": [
    "# test\n",
    "pptk.kdtree._query(tree,xyz[1:2],100,1)"
   ]
  },
  {
   "cell_type": "code",
   "execution_count": null,
   "metadata": {},
   "outputs": [],
   "source": [
    "def query_kd(point_xyz):\n",
    "    return pptk.kdtree._query(tree,point_xyz,100,1)\n",
    "## Parameters:\n",
    "# tree (capsule object) – A k-d tree as produced by kdtree._build.\n",
    "# queries (numpy array) – Specify query points by one of the ways above.\n",
    "# k (int, optional) – Default: 1\n",
    "# dmax (float or double, optional) – Default: inf"
   ]
  },
  {
   "cell_type": "code",
   "execution_count": null,
   "metadata": {},
   "outputs": [],
   "source": [
    "def angle(X,Y):\n",
    "    m=np.dot(X,Y)\n",
    "    temp=m/(np.sum(X**2)**(1/2))/(np.sum(Y**2)**(1/2))\n",
    "    if temp >1 or temp <-1:\n",
    "        return math.acos(0)\n",
    "    return math.acos(abs(temp))"
   ]
  },
  {
   "cell_type": "code",
   "execution_count": null,
   "metadata": {
    "scrolled": false
   },
   "outputs": [],
   "source": [
    "data['PM']=np.nan\n",
    "for i in range(data.shape[0]):\n",
    "    total = 0\n",
    "    PM = 0\n",
    "    temp_ind = query_kd(xyz[i:i+1])[0]\n",
    "    if len(temp_ind)<10:\n",
    "        PM = 3\n",
    "    else:\n",
    "        for ind in temp_ind:\n",
    "            total+=data['normal'][ind]\n",
    "        avg = total/len(temp_ind)\n",
    "        for ind in temp_ind:\n",
    "            PM += angle(data['normal'][ind],avg)**2\n",
    "        PM = PM/len(temp_ind)\n",
    "    data.at[i,'PM']=PM\n",
    "    if i % 10000==0:\n",
    "        if i !=0:\n",
    "            end=time.time()\n",
    "            print('{:d} ,{:.7f} '.format( i, (end-start)))\n",
    "        else:\n",
    "            start=time.time()"
   ]
  },
  {
   "cell_type": "code",
   "execution_count": null,
   "metadata": {},
   "outputs": [],
   "source": [
    "data.head()"
   ]
  },
  {
   "cell_type": "code",
   "execution_count": null,
   "metadata": {},
   "outputs": [],
   "source": [
    "data.PM.mean()"
   ]
  },
  {
   "cell_type": "code",
   "execution_count": null,
   "metadata": {},
   "outputs": [],
   "source": [
    "data.PM[data.PM!=10].max()"
   ]
  },
  {
   "cell_type": "code",
   "execution_count": null,
   "metadata": {},
   "outputs": [],
   "source": [
    "data.PM.min()"
   ]
  },
  {
   "cell_type": "code",
   "execution_count": null,
   "metadata": {},
   "outputs": [],
   "source": [
    "data['PM_10']=data['PM']*10"
   ]
  },
  {
   "cell_type": "code",
   "execution_count": null,
   "metadata": {},
   "outputs": [],
   "source": [
    "data.head()"
   ]
  },
  {
   "cell_type": "code",
   "execution_count": null,
   "metadata": {},
   "outputs": [],
   "source": [
    "xyzp=data[['X','Y','altitude','PM_10']].values.tolist()"
   ]
  },
  {
   "cell_type": "markdown",
   "metadata": {},
   "source": [
    "#### 1.1.3 Using DBSACN to Classify the Road Plane"
   ]
  },
  {
   "cell_type": "code",
   "execution_count": null,
   "metadata": {},
   "outputs": [],
   "source": [
    "clustering = DBSCAN(eps=0.2, min_samples=3).fit(xyzp)"
   ]
  },
  {
   "cell_type": "code",
   "execution_count": null,
   "metadata": {},
   "outputs": [],
   "source": [
    "data['label']=clustering.labels_"
   ]
  },
  {
   "cell_type": "code",
   "execution_count": null,
   "metadata": {},
   "outputs": [],
   "source": [
    "label=data['label'].value_counts().index[0]"
   ]
  },
  {
   "cell_type": "code",
   "execution_count": null,
   "metadata": {},
   "outputs": [],
   "source": [
    "filtered_data=data.iloc[np.where((data['label']==label) & (data['intensity']>20))[0]]"
   ]
  },
  {
   "cell_type": "code",
   "execution_count": null,
   "metadata": {},
   "outputs": [],
   "source": [
    "xyz=filtered_data[['X','Y','altitude']].values.tolist()\n",
    "rgb=((filtered_data['altitude']).tolist())\n",
    "v = pptk.viewer(xyz,rgb)\n",
    "v.color_map('jet', scale=[min(rgb),max(rgb)])\n",
    "v.set(point_size=0.1)"
   ]
  },
  {
   "cell_type": "code",
   "execution_count": null,
   "metadata": {},
   "outputs": [],
   "source": [
    "filtered_data.index"
   ]
  },
  {
   "cell_type": "code",
   "execution_count": null,
   "metadata": {},
   "outputs": [],
   "source": [
    "X=filtered_data[['X','Y','altitude']]"
   ]
  },
  {
   "cell_type": "code",
   "execution_count": null,
   "metadata": {},
   "outputs": [],
   "source": [
    "pca = PCA(n_components=2)\n",
    "pca.fit(X)"
   ]
  },
  {
   "cell_type": "code",
   "execution_count": null,
   "metadata": {},
   "outputs": [],
   "source": [
    "X_new=pca.transform(X)\n",
    "x=X_new[:,0]\n",
    "y=X_new[:,1]\n",
    "index=filtered_data.index"
   ]
  },
  {
   "cell_type": "markdown",
   "metadata": {},
   "source": [
    "#### 1.1.4 Using RANSAC to Classify the Lane Mark on Road Plane"
   ]
  },
  {
   "cell_type": "code",
   "execution_count": null,
   "metadata": {},
   "outputs": [],
   "source": [
    "def detect_lane_marking_pm(x,y,index):\n",
    "    group=[]\n",
    "    full_group=[]\n",
    "    while len(y)>100:\n",
    "        ransac = linear_model.RANSACRegressor(min_samples=2,residual_threshold=0.8)\n",
    "        ransac.fit(x.reshape(-1, 1), y)\n",
    "        inlier_mask = ransac.inlier_mask_\n",
    "        outlier_mask = np.logical_not(inlier_mask)\n",
    "        \n",
    "        group.append(index[inlier_mask].tolist())\n",
    "        plt.figure()\n",
    "        plt.scatter(x[inlier_mask], y[inlier_mask], color='yellowgreen', marker='.',\n",
    "                    label='Inliers')\n",
    "        plt.scatter(x[outlier_mask], y[outlier_mask], color='gold', marker='.',\n",
    "                    label='Outliers')\n",
    "        x=x[outlier_mask]\n",
    "        y=y[outlier_mask]\n",
    "        index=index[outlier_mask]\n",
    "    return group"
   ]
  },
  {
   "cell_type": "code",
   "execution_count": null,
   "metadata": {
    "scrolled": false
   },
   "outputs": [],
   "source": [
    "lane_group=detect_lane_marking_pm(x,y,index)"
   ]
  },
  {
   "cell_type": "code",
   "execution_count": null,
   "metadata": {},
   "outputs": [],
   "source": [
    "data.to_pickle('point_cloud_zhan.pkl')"
   ]
  },
  {
   "cell_type": "code",
   "execution_count": null,
   "metadata": {},
   "outputs": [],
   "source": [
    "data['lane_mark_pm']=-1\n",
    "for i in range(len(lane_group)):\n",
    "    data.at[lane_group[i],'lane_mark_pm']=i"
   ]
  },
  {
   "cell_type": "markdown",
   "metadata": {},
   "source": [
    "## Approch 2: RANSAC (A more accurate and efficient method)"
   ]
  },
  {
   "cell_type": "markdown",
   "metadata": {},
   "source": [
    "### 2.1 Surface Detection with RANSAC\n"
   ]
  },
  {
   "cell_type": "code",
   "execution_count": 47,
   "metadata": {},
   "outputs": [],
   "source": [
    "xy=data[['X','Y']]\n",
    "z=data[['altitude']]\n",
    "index=data.index"
   ]
  },
  {
   "cell_type": "code",
   "execution_count": 45,
   "metadata": {},
   "outputs": [],
   "source": [
    "def detect_road_surface(xy,z,index):\n",
    "    group=[]\n",
    "    for i in range(2):\n",
    "        ransac = linear_model.RANSACRegressor(residual_threshold=0.05)\n",
    "        ransac.fit(xy,z)\n",
    "        inlier_mask = ransac.inlier_mask_\n",
    "        outlier_mask = np.logical_not(inlier_mask)\n",
    "        group.append(index[inlier_mask].tolist())\n",
    "        xy=xy[outlier_mask]\n",
    "        z=z[outlier_mask]\n",
    "        index=index[outlier_mask]\n",
    "    return group"
   ]
  },
  {
   "cell_type": "code",
   "execution_count": 48,
   "metadata": {},
   "outputs": [],
   "source": [
    "road_suface_group = detect_road_surface(xy,z,index)"
   ]
  },
  {
   "cell_type": "code",
   "execution_count": 65,
   "metadata": {},
   "outputs": [],
   "source": [
    "data['plane']=-1\n",
    "for i in range(len(road_suface_group)):\n",
    "    data.at[road_suface_group[i],'plane']=i"
   ]
  },
  {
   "cell_type": "code",
   "execution_count": 37,
   "metadata": {},
   "outputs": [
    {
     "data": {
      "text/plain": [
       "225.223176380429"
      ]
     },
     "execution_count": 37,
     "metadata": {},
     "output_type": "execute_result"
    }
   ],
   "source": [
    "data.altitude.mean()"
   ]
  },
  {
   "cell_type": "code",
   "execution_count": 66,
   "metadata": {},
   "outputs": [],
   "source": [
    "# Filter and get all the points which are on the plane\n",
    "plane_data_all=data[data.plane!=-1]\n",
    "# Filter and get the points on the plane but with intensity over 20 \n",
    "plane_data=plane_data_all[plane_data_all.intensity>20]\n",
    "# Filter and get the points on the plane but with intensity lower than 20 \n",
    "plane_data_rest=plane_data_all[plane_data_all.intensity<=20]"
   ]
  },
  {
   "cell_type": "code",
   "execution_count": 51,
   "metadata": {},
   "outputs": [],
   "source": [
    "v=pptk.viewer(plane_data[['X','Y','altitude']])\n",
    "v.attributes(plane_data['plane'])\n",
    "v.set(point_size=0.3)\n",
    "v.set(show_axis=False)\n",
    "v.color_map('jet',scale=[-1,2])\n",
    "\n",
    "# camera part\n",
    "poses = []\n",
    "camera_start_point_x=6924683\n",
    "camera_start_point_y=5078211\n",
    "camera_start_point_z=227.50\n",
    "for i in range(100):\n",
    "    poses.append([camera_start_point_x+i*0.5,camera_start_point_y+i*0.5,camera_start_point_z,5/4*np.pi ,1/12*np.pi ,30])\n"
   ]
  },
  {
   "cell_type": "code",
   "execution_count": null,
   "metadata": {},
   "outputs": [],
   "source": []
  },
  {
   "cell_type": "markdown",
   "metadata": {},
   "source": [
    "### 2.2 Inline Points Detection"
   ]
  },
  {
   "cell_type": "code",
   "execution_count": 52,
   "metadata": {},
   "outputs": [],
   "source": [
    "#Select the x,y,z columns\n",
    "X=plane_data[['X','Y','altitude']]\n",
    "X_rest=plane_data_rest[['X','Y','altitude']]"
   ]
  },
  {
   "cell_type": "code",
   "execution_count": 53,
   "metadata": {},
   "outputs": [
    {
     "data": {
      "text/plain": [
       "PCA(copy=True, iterated_power='auto', n_components=2, random_state=None,\n",
       "  svd_solver='auto', tol=0.0, whiten=False)"
      ]
     },
     "execution_count": 53,
     "metadata": {},
     "output_type": "execute_result"
    }
   ],
   "source": [
    "pca = PCA(n_components=2)\n",
    "pca.fit(X)"
   ]
  },
  {
   "cell_type": "code",
   "execution_count": 54,
   "metadata": {},
   "outputs": [],
   "source": [
    "X_new=pca.transform(X)\n",
    "X_rest_new=pca.transform(X_rest)\n",
    "x=X_new[:,0]\n",
    "y=X_new[:,1]\n",
    "x_rest=X_rest_new[:,0]\n",
    "y_rest=X_rest_new[:,1]\n",
    "index=plane_data.index\n",
    "index_rest=plane_data_rest.index"
   ]
  },
  {
   "cell_type": "code",
   "execution_count": 55,
   "metadata": {},
   "outputs": [],
   "source": [
    "# Define the function to mark the lane with different group number\n",
    "def detect_lane_marking(x,y,index):\n",
    "    group=[]\n",
    "    full_group=[]\n",
    "    for i in range(8):\n",
    "        ransac = linear_model.RANSACRegressor(min_samples=2,residual_threshold=0.7)\n",
    "        ransac.fit(x.reshape(-1, 1), y)\n",
    "        inlier_mask = ransac.inlier_mask_\n",
    "        outlier_mask = np.logical_not(inlier_mask)\n",
    "        \n",
    "        group.append(index[inlier_mask].tolist())\n",
    "        plt.figure()\n",
    "        plt.scatter(x[inlier_mask], y[inlier_mask], color='yellowgreen', marker='.',\n",
    "                    label='Inliers')\n",
    "        plt.scatter(x[outlier_mask], y[outlier_mask], color='gold', marker='.',\n",
    "                    label='Outliers')\n",
    "        x=x[outlier_mask]\n",
    "        y=y[outlier_mask]\n",
    "        index=index[outlier_mask]\n",
    "    return group"
   ]
  },
  {
   "cell_type": "code",
   "execution_count": 56,
   "metadata": {
    "scrolled": false
   },
   "outputs": [
    {
     "data": {
      "image/png": "[encoded data removed]",
      "text/plain": [
       "<matplotlib.figure.Figure at 0x1f8624324a8>"
      ]
     },
     "metadata": {},
     "output_type": "display_data"
    },
    {
     "data": {
      "image/png": "[encoded data removed]",
      "text/plain": [
       "<matplotlib.figure.Figure at 0x1f8624322e8>"
      ]
     },
     "metadata": {},
     "output_type": "display_data"
    },
    {
     "data": {
      "image/png": "[encoded data removed]",
      "text/plain": [
       "<matplotlib.figure.Figure at 0x1f862432208>"
      ]
     },
     "metadata": {},
     "output_type": "display_data"
    },
    {
     "data": {
      "image/png": "[encoded data removed]",
      "text/plain": [
       "<matplotlib.figure.Figure at 0x1f86c019cf8>"
      ]
     },
     "metadata": {},
     "output_type": "display_data"
    },
    {
     "data": {
      "image/png": "[encoded data removed]",
      "text/plain": [
       "<matplotlib.figure.Figure at 0x1f861b6fb38>"
      ]
     },
     "metadata": {},
     "output_type": "display_data"
    },
    {
     "data": {
      "image/png": "[encoded data removed]",
      "text/plain": [
       "<matplotlib.figure.Figure at 0x1f86206ae80>"
      ]
     },
     "metadata": {},
     "output_type": "display_data"
    },
    {
     "data": {
      "image/png": "[encoded data removed]",
      "text/plain": [
       "<matplotlib.figure.Figure at 0x1f862503c18>"
      ]
     },
     "metadata": {},
     "output_type": "display_data"
    },
    {
     "data": {
      "image/png": "[encoded data removed]",
      "text/plain": [
       "<matplotlib.figure.Figure at 0x1f861b6fa90>"
      ]
     },
     "metadata": {},
     "output_type": "display_data"
    }
   ],
   "source": [
    "lane_group=detect_lane_marking(x,y,index)"
   ]
  },
  {
   "cell_type": "markdown",
   "metadata": {},
   "source": [
    "### 2.3 Postprocessing Inline Points to Improve Smoothness"
   ]
  },
  {
   "cell_type": "code",
   "execution_count": 57,
   "metadata": {},
   "outputs": [],
   "source": [
    "# Linear Regression for each lane in 3D space and return the linear models for each lane\n",
    "def fit_line_in_3D():\n",
    "    fit_3d_line=[]\n",
    "    for i in range(8):\n",
    "        temp_group=lane_group[i]\n",
    "        temp_x=data.iloc[temp_group]['X']\n",
    "        temp_y=data.iloc[temp_group]['Y']\n",
    "        temp_z=data.iloc[temp_group]['altitude']\n",
    "        x_y=LinearRegression().fit(temp_x.values.reshape(-1, 1), temp_y)\n",
    "        x_z=LinearRegression().fit(temp_x.values.reshape(-1, 1), temp_z)\n",
    "        fit_3d_line.append([x_y,x_z])\n",
    "    return fit_3d_line"
   ]
  },
  {
   "cell_type": "code",
   "execution_count": 58,
   "metadata": {},
   "outputs": [],
   "source": [
    "# Mark the plane points on virtual line corresponding to lane but not on actual lane. \n",
    "def mark_inline_point(residual_for_y,residual_for_z):\n",
    "    for i in range(8):\n",
    "        model_xy=fit_3d_line[i][0]\n",
    "        model_xz=fit_3d_line[i][1]\n",
    "        data_x=X_rest['X']\n",
    "        prediction_y=model_xy.predict(data_x.values.reshape(-1, 1))\n",
    "        prediction_z=model_xz.predict(data_x.values.reshape(-1, 1))\n",
    "        residual_y=np.absolute(X_rest['Y']-prediction_y)\n",
    "        residual_z=np.absolute(X_rest['altitude']-prediction_z)\n",
    "        inline_id=residual_y.index[np.where((residual_y<residual_for_y) & (residual_z<residual_for_z))[0]]\n",
    "        data.at[inline_id,'virtual_lane']=i\n",
    "def adjust_actual_lane(residual_for_y,residual_for_z):\n",
    "    for i in range(8):\n",
    "        model_xy=fit_3d_line[i][0]\n",
    "        model_xz=fit_3d_line[i][1]\n",
    "        data_x=data.iloc[lane_group[i]]['X']\n",
    "        prediction_y=model_xy.predict(data_x.values.reshape(-1, 1))\n",
    "        prediction_z=model_xz.predict(data_x.values.reshape(-1, 1))\n",
    "        residual_y=np.absolute(data.iloc[lane_group[i]]['Y']-prediction_y)\n",
    "        residual_z=np.absolute(data.iloc[lane_group[i]]['altitude']-prediction_z)\n",
    "        outline_id=residual_y.index[np.where((residual_y>residual_for_y) & (residual_z>residual_for_z))[0]]\n",
    "        data.at[outline_id,'lane_mark']=-1"
   ]
  },
  {
   "cell_type": "code",
   "execution_count": 67,
   "metadata": {},
   "outputs": [],
   "source": [
    "data['lane_mark']=-1\n",
    "for i in range(len(lane_group)):\n",
    "    data.at[lane_group[i],'lane_mark']=i\n",
    "data['virtual_lane']=-1\n",
    "data_actual_line=data[(data.plane!=-1) & (data.lane_mark!=-1)]"
   ]
  },
  {
   "cell_type": "code",
   "execution_count": 73,
   "metadata": {},
   "outputs": [],
   "source": [
    "fit_3d_line=fit_line_in_3D()\n",
    "mark_inline_point(0.1,0.1)\n",
    "adjust_actual_lane(0.05,0.001)\n",
    "data_plane_filtered_by_intensity=plane_data\n",
    "data_plane=data[(data.plane!=-1)]\n",
    "data_in_line=data[(data.plane!=-1) & ((data.virtual_lane!=-1)|(data.lane_mark!=-1))]"
   ]
  },
  {
   "cell_type": "markdown",
   "metadata": {},
   "source": [
    "### 2.4 Observation and Output for Plane Data, Inline Data & Post-processing Data"
   ]
  },
  {
   "cell_type": "code",
   "execution_count": 39,
   "metadata": {},
   "outputs": [],
   "source": [
    "viewer,poses=pptk_visualization(data_actual_line[['X','Y','altitude']],data_actual_line['lane_mark'],scale_min=-1,scale_max=7)"
   ]
  },
  {
   "cell_type": "code",
   "execution_count": 40,
   "metadata": {},
   "outputs": [],
   "source": [
    "record(viewer,prefix='Inline_Data')"
   ]
  },
  {
   "cell_type": "code",
   "execution_count": 96,
   "metadata": {},
   "outputs": [],
   "source": [
    "viewer,poses=pptk_visualization(data_plane[['X','Y','altitude']],data_plane['plane'],scale_min=-1,scale_max=2)"
   ]
  },
  {
   "cell_type": "code",
   "execution_count": 42,
   "metadata": {},
   "outputs": [],
   "source": [
    "record(viewer,prefix='Plane_Data')"
   ]
  },
  {
   "cell_type": "code",
   "execution_count": 51,
   "metadata": {},
   "outputs": [],
   "source": [
    "viewer,poses=pptk_visualization(data_in_line[['X','Y','altitude']],data_in_line['lane_mark'],scale_min=-1,scale_max=7)"
   ]
  },
  {
   "cell_type": "code",
   "execution_count": 44,
   "metadata": {},
   "outputs": [],
   "source": [
    "record(viewer,prefix='Post_Processing_Data')"
   ]
  },
  {
   "cell_type": "code",
   "execution_count": 99,
   "metadata": {},
   "outputs": [],
   "source": [
    "viewer,poses=pptk_visualization(data_plane_filtered_by_intensity[['X','Y','altitude']],data_plane_filtered_by_intensity['plane'],scale_min=-1,scale_max=2)"
   ]
  },
  {
   "cell_type": "code",
   "execution_count": 101,
   "metadata": {},
   "outputs": [],
   "source": [
    "record(viewer,prefix='data_plane_filtered_by_intensity')"
   ]
  },
  {
   "cell_type": "markdown",
   "metadata": {},
   "source": [
    "#### 2.4.1  For better performance of view in PPTK , we simulated the points on fitting lines to improve the brightness"
   ]
  },
  {
   "cell_type": "code",
   "execution_count": 105,
   "metadata": {},
   "outputs": [],
   "source": [
    "fitting_data=pd.DataFrame()\n",
    "for i in range(8):\n",
    "    index=lane_group[i]\n",
    "    x_min=min(data.iloc[index]['X'])\n",
    "    x_max=max(data.iloc[index]['X'])\n",
    "    X=np.arange(x_min,x_max,0.01)\n",
    "    model_xy=fit_3d_line[i][0]\n",
    "    model_xz=fit_3d_line[i][1]\n",
    "    Y=model_xy.predict(X.reshape(-1, 1))\n",
    "    Z=model_xz.predict(X.reshape(-1, 1))\n",
    "    label=np.full(len(X),i)\n",
    "    d={'X':X,'Y':Y,'Z':Z,'label':label}\n",
    "    temp_data=pd.DataFrame(d)\n",
    "    fitting_data=pd.concat([fitting_data,temp_data])"
   ]
  },
  {
   "cell_type": "code",
   "execution_count": 108,
   "metadata": {},
   "outputs": [],
   "source": [
    "viewer,poses=pptk_visualization(fitting_data[['X','Y','Z']],fitting_data['label'],scale_min=-1,scale_max=7)"
   ]
  },
  {
   "cell_type": "code",
   "execution_count": 109,
   "metadata": {},
   "outputs": [],
   "source": [
    "record(viewer,prefix='Simulation data')"
   ]
  },
  {
   "cell_type": "code",
   "execution_count": 74,
   "metadata": {},
   "outputs": [],
   "source": [
    "data['point_tag']='Not_On_Road'"
   ]
  },
  {
   "cell_type": "code",
   "execution_count": 86,
   "metadata": {},
   "outputs": [],
   "source": [
    "data.at[np.where(data['lane_mark']!=-1)[0].tolist(),'point_tag']='On_Lane_Marking'"
   ]
  },
  {
   "cell_type": "code",
   "execution_count": 87,
   "metadata": {},
   "outputs": [],
   "source": [
    "data.at[np.where((data['lane_mark']==-1) & (data['plane']!=-1) & (data['virtual_lane']==-1) )[0].tolist(),'point_tag']='On_Plane/Not_On_Lane/Not_On_Extension_Line'"
   ]
  },
  {
   "cell_type": "code",
   "execution_count": 88,
   "metadata": {},
   "outputs": [],
   "source": [
    "data.at[np.where((data['lane_mark']==-1) & (data['plane']!=-1) & (data['virtual_lane']!=-1) )[0].tolist(),'point_tag']='On_Extension_Line'"
   ]
  },
  {
   "cell_type": "code",
   "execution_count": 89,
   "metadata": {},
   "outputs": [
    {
     "data": {
      "text/plain": [
       "point_tag\n",
       "Not_On_Road                                   107933\n",
       "On_Extension_Line                               2683\n",
       "On_Lane_Marking                                 3579\n",
       "On_Plane/Not_On_Lane/Not_On_Extension_Line    316541\n",
       "Name: point_tag, dtype: int64"
      ]
     },
     "execution_count": 89,
     "metadata": {},
     "output_type": "execute_result"
    }
   ],
   "source": [
    "data.groupby('point_tag')['point_tag'].count()"
   ]
  },
  {
   "cell_type": "code",
   "execution_count": 90,
   "metadata": {},
   "outputs": [],
   "source": [
    "data[['X','Y','altitude','point_tag']].to_csv('C:/Users/zhaoxiangyu/Desktop/final_project_data/final_project_output.csv',index=False)"
   ]
  },
  {
   "cell_type": "code",
   "execution_count": null,
   "metadata": {},
   "outputs": [],
   "source": []
  }
 ],
 "metadata": {
  "kernelspec": {
   "display_name": "Python 3",
   "language": "python",
   "name": "python3"
  },
  "language_info": {
   "codemirror_mode": {
    "name": "ipython",
    "version": 3
   },
   "file_extension": ".py",
   "mimetype": "text/x-python",
   "name": "python",
   "nbconvert_exporter": "python",
   "pygments_lexer": "ipython3",
   "version": "3.6.4"
  }
 },
 "nbformat": 4,
 "nbformat_minor": 2
}
